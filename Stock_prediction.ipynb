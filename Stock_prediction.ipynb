{
  "nbformat": 4,
  "nbformat_minor": 0,
  "metadata": {
    "colab": {
      "name": "Stock prediction.ipynb",
      "provenance": [],
      "collapsed_sections": [],
      "authorship_tag": "ABX9TyONgM8l7dbxDXg60qtR3uxh",
      "include_colab_link": true
    },
    "kernelspec": {
      "name": "python3",
      "display_name": "Python 3"
    }
  },
  "cells": [
    {
      "cell_type": "markdown",
      "metadata": {
        "id": "view-in-github",
        "colab_type": "text"
      },
      "source": [
        "<a href=\"https://colab.research.google.com/github/Avina20/Stock-Returns-Prediction/blob/main/Stock_prediction.ipynb\" target=\"_parent\"><img src=\"https://colab.research.google.com/assets/colab-badge.svg\" alt=\"Open In Colab\"/></a>"
      ]
    },
    {
      "cell_type": "code",
      "metadata": {
        "id": "BLoUwwgWOK_B",
        "outputId": "f884dc31-50a5-4d3c-dd6b-076e252d180a",
        "colab": {
          "base_uri": "https://localhost:8080/",
          "height": 34
        }
      },
      "source": [
        "import tensorflow as tf\n",
        "print(tf.__version__)"
      ],
      "execution_count": 40,
      "outputs": [
        {
          "output_type": "stream",
          "text": [
            "2.3.0\n"
          ],
          "name": "stdout"
        }
      ]
    },
    {
      "cell_type": "code",
      "metadata": {
        "id": "7EJ6JpoqQRI-"
      },
      "source": [
        "from tensorflow.keras.layers import Input, LSTM, GRU, SimpleRNN, Dense, GlobalMaxPool1D\n",
        "from tensorflow.keras.models import Model\n",
        "from tensorflow.keras.optimizers import SGD, Adam"
      ],
      "execution_count": 41,
      "outputs": []
    },
    {
      "cell_type": "code",
      "metadata": {
        "id": "-t7i_Q-IQ1Wm"
      },
      "source": [
        "import numpy as np\n",
        "import pandas as pd\n",
        "import matplotlib.pyplot as plt\n",
        "from sklearn.preprocessing import StandardScaler"
      ],
      "execution_count": 42,
      "outputs": []
    },
    {
      "cell_type": "code",
      "metadata": {
        "id": "R9hw6-DLRBEs"
      },
      "source": [
        "df = pd.read_csv(\"https://raw.githubusercontent.com/lazyprogrammer/machine_learning_examples/master/tf2.0/sbux.csv\")"
      ],
      "execution_count": 43,
      "outputs": []
    },
    {
      "cell_type": "code",
      "metadata": {
        "id": "E39eIbOdVsHA",
        "outputId": "64842965-87dc-401e-8c06-95d5058da870",
        "colab": {
          "base_uri": "https://localhost:8080/",
          "height": 204
        }
      },
      "source": [
        "df.head()"
      ],
      "execution_count": 44,
      "outputs": [
        {
          "output_type": "execute_result",
          "data": {
            "text/html": [
              "<div>\n",
              "<style scoped>\n",
              "    .dataframe tbody tr th:only-of-type {\n",
              "        vertical-align: middle;\n",
              "    }\n",
              "\n",
              "    .dataframe tbody tr th {\n",
              "        vertical-align: top;\n",
              "    }\n",
              "\n",
              "    .dataframe thead th {\n",
              "        text-align: right;\n",
              "    }\n",
              "</style>\n",
              "<table border=\"1\" class=\"dataframe\">\n",
              "  <thead>\n",
              "    <tr style=\"text-align: right;\">\n",
              "      <th></th>\n",
              "      <th>date</th>\n",
              "      <th>open</th>\n",
              "      <th>high</th>\n",
              "      <th>low</th>\n",
              "      <th>close</th>\n",
              "      <th>volume</th>\n",
              "      <th>Name</th>\n",
              "    </tr>\n",
              "  </thead>\n",
              "  <tbody>\n",
              "    <tr>\n",
              "      <th>0</th>\n",
              "      <td>2013-02-08</td>\n",
              "      <td>27.920</td>\n",
              "      <td>28.325</td>\n",
              "      <td>27.920</td>\n",
              "      <td>28.185</td>\n",
              "      <td>7146296</td>\n",
              "      <td>SBUX</td>\n",
              "    </tr>\n",
              "    <tr>\n",
              "      <th>1</th>\n",
              "      <td>2013-02-11</td>\n",
              "      <td>28.260</td>\n",
              "      <td>28.260</td>\n",
              "      <td>27.930</td>\n",
              "      <td>28.070</td>\n",
              "      <td>5457354</td>\n",
              "      <td>SBUX</td>\n",
              "    </tr>\n",
              "    <tr>\n",
              "      <th>2</th>\n",
              "      <td>2013-02-12</td>\n",
              "      <td>28.000</td>\n",
              "      <td>28.275</td>\n",
              "      <td>27.975</td>\n",
              "      <td>28.130</td>\n",
              "      <td>8665592</td>\n",
              "      <td>SBUX</td>\n",
              "    </tr>\n",
              "    <tr>\n",
              "      <th>3</th>\n",
              "      <td>2013-02-13</td>\n",
              "      <td>28.230</td>\n",
              "      <td>28.230</td>\n",
              "      <td>27.750</td>\n",
              "      <td>27.915</td>\n",
              "      <td>7022056</td>\n",
              "      <td>SBUX</td>\n",
              "    </tr>\n",
              "    <tr>\n",
              "      <th>4</th>\n",
              "      <td>2013-02-14</td>\n",
              "      <td>27.765</td>\n",
              "      <td>27.905</td>\n",
              "      <td>27.675</td>\n",
              "      <td>27.775</td>\n",
              "      <td>8899188</td>\n",
              "      <td>SBUX</td>\n",
              "    </tr>\n",
              "  </tbody>\n",
              "</table>\n",
              "</div>"
            ],
            "text/plain": [
              "         date    open    high     low   close   volume  Name\n",
              "0  2013-02-08  27.920  28.325  27.920  28.185  7146296  SBUX\n",
              "1  2013-02-11  28.260  28.260  27.930  28.070  5457354  SBUX\n",
              "2  2013-02-12  28.000  28.275  27.975  28.130  8665592  SBUX\n",
              "3  2013-02-13  28.230  28.230  27.750  27.915  7022056  SBUX\n",
              "4  2013-02-14  27.765  27.905  27.675  27.775  8899188  SBUX"
            ]
          },
          "metadata": {
            "tags": []
          },
          "execution_count": 44
        }
      ]
    },
    {
      "cell_type": "code",
      "metadata": {
        "id": "NjIOZeUWVvHW",
        "outputId": "f950cf5c-a954-4aa6-9162-935ca838a6c6",
        "colab": {
          "base_uri": "https://localhost:8080/",
          "height": 204
        }
      },
      "source": [
        "df.tail()"
      ],
      "execution_count": 45,
      "outputs": [
        {
          "output_type": "execute_result",
          "data": {
            "text/html": [
              "<div>\n",
              "<style scoped>\n",
              "    .dataframe tbody tr th:only-of-type {\n",
              "        vertical-align: middle;\n",
              "    }\n",
              "\n",
              "    .dataframe tbody tr th {\n",
              "        vertical-align: top;\n",
              "    }\n",
              "\n",
              "    .dataframe thead th {\n",
              "        text-align: right;\n",
              "    }\n",
              "</style>\n",
              "<table border=\"1\" class=\"dataframe\">\n",
              "  <thead>\n",
              "    <tr style=\"text-align: right;\">\n",
              "      <th></th>\n",
              "      <th>date</th>\n",
              "      <th>open</th>\n",
              "      <th>high</th>\n",
              "      <th>low</th>\n",
              "      <th>close</th>\n",
              "      <th>volume</th>\n",
              "      <th>Name</th>\n",
              "    </tr>\n",
              "  </thead>\n",
              "  <tbody>\n",
              "    <tr>\n",
              "      <th>1254</th>\n",
              "      <td>2018-02-01</td>\n",
              "      <td>56.280</td>\n",
              "      <td>56.42</td>\n",
              "      <td>55.89</td>\n",
              "      <td>56.00</td>\n",
              "      <td>14690146</td>\n",
              "      <td>SBUX</td>\n",
              "    </tr>\n",
              "    <tr>\n",
              "      <th>1255</th>\n",
              "      <td>2018-02-02</td>\n",
              "      <td>55.900</td>\n",
              "      <td>56.32</td>\n",
              "      <td>55.70</td>\n",
              "      <td>55.77</td>\n",
              "      <td>15358909</td>\n",
              "      <td>SBUX</td>\n",
              "    </tr>\n",
              "    <tr>\n",
              "      <th>1256</th>\n",
              "      <td>2018-02-05</td>\n",
              "      <td>55.530</td>\n",
              "      <td>56.26</td>\n",
              "      <td>54.57</td>\n",
              "      <td>54.69</td>\n",
              "      <td>16059955</td>\n",
              "      <td>SBUX</td>\n",
              "    </tr>\n",
              "    <tr>\n",
              "      <th>1257</th>\n",
              "      <td>2018-02-06</td>\n",
              "      <td>53.685</td>\n",
              "      <td>56.06</td>\n",
              "      <td>53.56</td>\n",
              "      <td>55.61</td>\n",
              "      <td>17415065</td>\n",
              "      <td>SBUX</td>\n",
              "    </tr>\n",
              "    <tr>\n",
              "      <th>1258</th>\n",
              "      <td>2018-02-07</td>\n",
              "      <td>55.080</td>\n",
              "      <td>55.43</td>\n",
              "      <td>54.44</td>\n",
              "      <td>54.46</td>\n",
              "      <td>13927022</td>\n",
              "      <td>SBUX</td>\n",
              "    </tr>\n",
              "  </tbody>\n",
              "</table>\n",
              "</div>"
            ],
            "text/plain": [
              "            date    open   high    low  close    volume  Name\n",
              "1254  2018-02-01  56.280  56.42  55.89  56.00  14690146  SBUX\n",
              "1255  2018-02-02  55.900  56.32  55.70  55.77  15358909  SBUX\n",
              "1256  2018-02-05  55.530  56.26  54.57  54.69  16059955  SBUX\n",
              "1257  2018-02-06  53.685  56.06  53.56  55.61  17415065  SBUX\n",
              "1258  2018-02-07  55.080  55.43  54.44  54.46  13927022  SBUX"
            ]
          },
          "metadata": {
            "tags": []
          },
          "execution_count": 45
        }
      ]
    },
    {
      "cell_type": "markdown",
      "metadata": {
        "id": "Sw0cIdXxWlH8"
      },
      "source": [
        "##Stock Prediction\n"
      ]
    },
    {
      "cell_type": "code",
      "metadata": {
        "id": "-VtwzXdYVzCK"
      },
      "source": [
        "series =  df['close'].values.reshape(-1,1)"
      ],
      "execution_count": 46,
      "outputs": []
    },
    {
      "cell_type": "code",
      "metadata": {
        "id": "JybLeVhzWvEl"
      },
      "source": [
        "scaler = StandardScaler()\n",
        "scaler.fit(series[:len(series)//2])\n",
        "series = scaler.transform(series).flatten()"
      ],
      "execution_count": 47,
      "outputs": []
    },
    {
      "cell_type": "code",
      "metadata": {
        "id": "cHqOZ1WNXHxL",
        "outputId": "b827ebcd-6784-4cec-9f72-bf069c6cb640",
        "colab": {
          "base_uri": "https://localhost:8080/",
          "height": 34
        }
      },
      "source": [
        " T = 10\n",
        " D=1\n",
        " X=[]\n",
        " Y=[]\n",
        " for t in range(len(series)-T):\n",
        "   x=series[t:t+T]\n",
        "   X.append(x)\n",
        "   y=series[t+T]\n",
        "   Y.append(y)\n",
        "\n",
        "X = np.array(X).reshape(-1,T,1)\n",
        "Y = np.array(Y)\n",
        "\n",
        "N = len(X)\n",
        "print(\"X.shape\", X.shape, \"Y.shape\", Y.shape)"
      ],
      "execution_count": 48,
      "outputs": [
        {
          "output_type": "stream",
          "text": [
            "X.shape (1249, 10, 1) Y.shape (1249,)\n"
          ],
          "name": "stdout"
        }
      ]
    },
    {
      "cell_type": "code",
      "metadata": {
        "id": "jgjMI1pTdASI",
        "outputId": "32980082-7f47-4945-e397-85436586acaa",
        "colab": {
          "base_uri": "https://localhost:8080/",
          "height": 1000
        }
      },
      "source": [
        "i = Input(shape=(T,1))\n",
        "x = LSTM(5)(i)\n",
        "x = Dense(1)(x)\n",
        "model = Model(i,x)\n",
        "model.compile(\n",
        "    loss='mse',\n",
        "    optimizer = Adam(lr=0.1),\n",
        ")\n",
        "\n",
        "r=model.fit(\n",
        "    X[:-N//2], Y[:-N//2],\n",
        "    epochs=80,\n",
        "    validation_data=(X[-N//2:],Y[-N//2:])\n",
        ")"
      ],
      "execution_count": 49,
      "outputs": [
        {
          "output_type": "stream",
          "text": [
            "Epoch 1/80\n",
            "20/20 [==============================] - 0s 24ms/step - loss: 0.3766 - val_loss: 0.3909\n",
            "Epoch 2/80\n",
            "20/20 [==============================] - 0s 6ms/step - loss: 0.0446 - val_loss: 0.2981\n",
            "Epoch 3/80\n",
            "20/20 [==============================] - 0s 6ms/step - loss: 0.0109 - val_loss: 0.1100\n",
            "Epoch 4/80\n",
            "20/20 [==============================] - 0s 6ms/step - loss: 0.0066 - val_loss: 0.0818\n",
            "Epoch 5/80\n",
            "20/20 [==============================] - 0s 6ms/step - loss: 0.0065 - val_loss: 0.0777\n",
            "Epoch 6/80\n",
            "20/20 [==============================] - 0s 6ms/step - loss: 0.0065 - val_loss: 0.0680\n",
            "Epoch 7/80\n",
            "20/20 [==============================] - 0s 6ms/step - loss: 0.0073 - val_loss: 0.0651\n",
            "Epoch 8/80\n",
            "20/20 [==============================] - 0s 6ms/step - loss: 0.0055 - val_loss: 0.0654\n",
            "Epoch 9/80\n",
            "20/20 [==============================] - 0s 6ms/step - loss: 0.0071 - val_loss: 0.0884\n",
            "Epoch 10/80\n",
            "20/20 [==============================] - 0s 6ms/step - loss: 0.0069 - val_loss: 0.0358\n",
            "Epoch 11/80\n",
            "20/20 [==============================] - 0s 5ms/step - loss: 0.0059 - val_loss: 0.0423\n",
            "Epoch 12/80\n",
            "20/20 [==============================] - 0s 6ms/step - loss: 0.0059 - val_loss: 0.0396\n",
            "Epoch 13/80\n",
            "20/20 [==============================] - 0s 6ms/step - loss: 0.0059 - val_loss: 0.0486\n",
            "Epoch 14/80\n",
            "20/20 [==============================] - 0s 6ms/step - loss: 0.0053 - val_loss: 0.0436\n",
            "Epoch 15/80\n",
            "20/20 [==============================] - 0s 6ms/step - loss: 0.0057 - val_loss: 0.0513\n",
            "Epoch 16/80\n",
            "20/20 [==============================] - 0s 7ms/step - loss: 0.0059 - val_loss: 0.0372\n",
            "Epoch 17/80\n",
            "20/20 [==============================] - 0s 6ms/step - loss: 0.0082 - val_loss: 0.0424\n",
            "Epoch 18/80\n",
            "20/20 [==============================] - 0s 6ms/step - loss: 0.0071 - val_loss: 0.0481\n",
            "Epoch 19/80\n",
            "20/20 [==============================] - 0s 6ms/step - loss: 0.0077 - val_loss: 0.0634\n",
            "Epoch 20/80\n",
            "20/20 [==============================] - 0s 6ms/step - loss: 0.0058 - val_loss: 0.0400\n",
            "Epoch 21/80\n",
            "20/20 [==============================] - 0s 6ms/step - loss: 0.0055 - val_loss: 0.0357\n",
            "Epoch 22/80\n",
            "20/20 [==============================] - 0s 6ms/step - loss: 0.0055 - val_loss: 0.0425\n",
            "Epoch 23/80\n",
            "20/20 [==============================] - 0s 6ms/step - loss: 0.0055 - val_loss: 0.0510\n",
            "Epoch 24/80\n",
            "20/20 [==============================] - 0s 6ms/step - loss: 0.0055 - val_loss: 0.0343\n",
            "Epoch 25/80\n",
            "20/20 [==============================] - 0s 6ms/step - loss: 0.0057 - val_loss: 0.0482\n",
            "Epoch 26/80\n",
            "20/20 [==============================] - 0s 6ms/step - loss: 0.0052 - val_loss: 0.0425\n",
            "Epoch 27/80\n",
            "20/20 [==============================] - 0s 5ms/step - loss: 0.0057 - val_loss: 0.0341\n",
            "Epoch 28/80\n",
            "20/20 [==============================] - 0s 6ms/step - loss: 0.0064 - val_loss: 0.0396\n",
            "Epoch 29/80\n",
            "20/20 [==============================] - 0s 6ms/step - loss: 0.0056 - val_loss: 0.0395\n",
            "Epoch 30/80\n",
            "20/20 [==============================] - 0s 6ms/step - loss: 0.0051 - val_loss: 0.0399\n",
            "Epoch 31/80\n",
            "20/20 [==============================] - 0s 6ms/step - loss: 0.0054 - val_loss: 0.0320\n",
            "Epoch 32/80\n",
            "20/20 [==============================] - 0s 6ms/step - loss: 0.0053 - val_loss: 0.0382\n",
            "Epoch 33/80\n",
            "20/20 [==============================] - 0s 6ms/step - loss: 0.0052 - val_loss: 0.0355\n",
            "Epoch 34/80\n",
            "20/20 [==============================] - 0s 6ms/step - loss: 0.0059 - val_loss: 0.0309\n",
            "Epoch 35/80\n",
            "20/20 [==============================] - 0s 6ms/step - loss: 0.0060 - val_loss: 0.0313\n",
            "Epoch 36/80\n",
            "20/20 [==============================] - 0s 6ms/step - loss: 0.0050 - val_loss: 0.0389\n",
            "Epoch 37/80\n",
            "20/20 [==============================] - 0s 6ms/step - loss: 0.0056 - val_loss: 0.0387\n",
            "Epoch 38/80\n",
            "20/20 [==============================] - 0s 6ms/step - loss: 0.0063 - val_loss: 0.0370\n",
            "Epoch 39/80\n",
            "20/20 [==============================] - 0s 6ms/step - loss: 0.0054 - val_loss: 0.0434\n",
            "Epoch 40/80\n",
            "20/20 [==============================] - 0s 6ms/step - loss: 0.0052 - val_loss: 0.0339\n",
            "Epoch 41/80\n",
            "20/20 [==============================] - 0s 6ms/step - loss: 0.0055 - val_loss: 0.0367\n",
            "Epoch 42/80\n",
            "20/20 [==============================] - 0s 6ms/step - loss: 0.0057 - val_loss: 0.0307\n",
            "Epoch 43/80\n",
            "20/20 [==============================] - 0s 6ms/step - loss: 0.0056 - val_loss: 0.0276\n",
            "Epoch 44/80\n",
            "20/20 [==============================] - 0s 6ms/step - loss: 0.0073 - val_loss: 0.0473\n",
            "Epoch 45/80\n",
            "20/20 [==============================] - 0s 6ms/step - loss: 0.0059 - val_loss: 0.0351\n",
            "Epoch 46/80\n",
            "20/20 [==============================] - 0s 7ms/step - loss: 0.0055 - val_loss: 0.0329\n",
            "Epoch 47/80\n",
            "20/20 [==============================] - 0s 7ms/step - loss: 0.0059 - val_loss: 0.0347\n",
            "Epoch 48/80\n",
            "20/20 [==============================] - 0s 8ms/step - loss: 0.0074 - val_loss: 0.0488\n",
            "Epoch 49/80\n",
            "20/20 [==============================] - 0s 7ms/step - loss: 0.0058 - val_loss: 0.0384\n",
            "Epoch 50/80\n",
            "20/20 [==============================] - 0s 6ms/step - loss: 0.0056 - val_loss: 0.0342\n",
            "Epoch 51/80\n",
            "20/20 [==============================] - 0s 6ms/step - loss: 0.0058 - val_loss: 0.0603\n",
            "Epoch 52/80\n",
            "20/20 [==============================] - 0s 6ms/step - loss: 0.0056 - val_loss: 0.0297\n",
            "Epoch 53/80\n",
            "20/20 [==============================] - 0s 6ms/step - loss: 0.0057 - val_loss: 0.0346\n",
            "Epoch 54/80\n",
            "20/20 [==============================] - 0s 5ms/step - loss: 0.0053 - val_loss: 0.0420\n",
            "Epoch 55/80\n",
            "20/20 [==============================] - 0s 5ms/step - loss: 0.0051 - val_loss: 0.0291\n",
            "Epoch 56/80\n",
            "20/20 [==============================] - 0s 6ms/step - loss: 0.0067 - val_loss: 0.0475\n",
            "Epoch 57/80\n",
            "20/20 [==============================] - 0s 6ms/step - loss: 0.0076 - val_loss: 0.0458\n",
            "Epoch 58/80\n",
            "20/20 [==============================] - 0s 6ms/step - loss: 0.0075 - val_loss: 0.0353\n",
            "Epoch 59/80\n",
            "20/20 [==============================] - 0s 6ms/step - loss: 0.0058 - val_loss: 0.0285\n",
            "Epoch 60/80\n",
            "20/20 [==============================] - 0s 6ms/step - loss: 0.0069 - val_loss: 0.0362\n",
            "Epoch 61/80\n",
            "20/20 [==============================] - 0s 6ms/step - loss: 0.0057 - val_loss: 0.0359\n",
            "Epoch 62/80\n",
            "20/20 [==============================] - 0s 6ms/step - loss: 0.0061 - val_loss: 0.0400\n",
            "Epoch 63/80\n",
            "20/20 [==============================] - 0s 6ms/step - loss: 0.0060 - val_loss: 0.0347\n",
            "Epoch 64/80\n",
            "20/20 [==============================] - 0s 6ms/step - loss: 0.0071 - val_loss: 0.0375\n",
            "Epoch 65/80\n",
            "20/20 [==============================] - 0s 6ms/step - loss: 0.0059 - val_loss: 0.0423\n",
            "Epoch 66/80\n",
            "20/20 [==============================] - 0s 6ms/step - loss: 0.0056 - val_loss: 0.0383\n",
            "Epoch 67/80\n",
            "20/20 [==============================] - 0s 6ms/step - loss: 0.0060 - val_loss: 0.0332\n",
            "Epoch 68/80\n",
            "20/20 [==============================] - 0s 6ms/step - loss: 0.0087 - val_loss: 0.0322\n",
            "Epoch 69/80\n",
            "20/20 [==============================] - 0s 7ms/step - loss: 0.0071 - val_loss: 0.0298\n",
            "Epoch 70/80\n",
            "20/20 [==============================] - 0s 6ms/step - loss: 0.0058 - val_loss: 0.0311\n",
            "Epoch 71/80\n",
            "20/20 [==============================] - 0s 6ms/step - loss: 0.0069 - val_loss: 0.0455\n",
            "Epoch 72/80\n",
            "20/20 [==============================] - 0s 6ms/step - loss: 0.0067 - val_loss: 0.0347\n",
            "Epoch 73/80\n",
            "20/20 [==============================] - 0s 6ms/step - loss: 0.0070 - val_loss: 0.0283\n",
            "Epoch 74/80\n",
            "20/20 [==============================] - 0s 6ms/step - loss: 0.0066 - val_loss: 0.0377\n",
            "Epoch 75/80\n",
            "20/20 [==============================] - 0s 6ms/step - loss: 0.0056 - val_loss: 0.0374\n",
            "Epoch 76/80\n",
            "20/20 [==============================] - 0s 6ms/step - loss: 0.0070 - val_loss: 0.0422\n",
            "Epoch 77/80\n",
            "20/20 [==============================] - 0s 6ms/step - loss: 0.0064 - val_loss: 0.0299\n",
            "Epoch 78/80\n",
            "20/20 [==============================] - 0s 6ms/step - loss: 0.0056 - val_loss: 0.0245\n",
            "Epoch 79/80\n",
            "20/20 [==============================] - 0s 6ms/step - loss: 0.0069 - val_loss: 0.0253\n",
            "Epoch 80/80\n",
            "20/20 [==============================] - 0s 6ms/step - loss: 0.0066 - val_loss: 0.0345\n"
          ],
          "name": "stdout"
        }
      ]
    },
    {
      "cell_type": "code",
      "metadata": {
        "id": "GcES8rMyaHwX",
        "outputId": "a0b06b23-1fa5-445c-b80d-ae1ce3034c34",
        "colab": {
          "base_uri": "https://localhost:8080/",
          "height": 312
        }
      },
      "source": [
        "tf.keras.utils.plot_model(model, show_shapes=True)"
      ],
      "execution_count": 50,
      "outputs": [
        {
          "output_type": "execute_result",
          "data": {
            "image/png": "[encoded data removed]",
            "text/plain": [
              "<IPython.core.display.Image object>"
            ]
          },
          "metadata": {
            "tags": []
          },
          "execution_count": 50
        }
      ]
    },
    {
      "cell_type": "code",
      "metadata": {
        "id": "yQmz00ZAeYLj",
        "outputId": "a1369753-9f69-4c22-e892-5bc078800aef",
        "colab": {
          "base_uri": "https://localhost:8080/",
          "height": 282
        }
      },
      "source": [
        "import matplotlib.pyplot as plt\n",
        "plt.plot(r.history['loss'],label='loss')\n",
        "plt.plot(r.history['val_loss'],label='val_loss')\n",
        "plt.legend()"
      ],
      "execution_count": 51,
      "outputs": [
        {
          "output_type": "execute_result",
          "data": {
            "text/plain": [
              "<matplotlib.legend.Legend at 0x7f92dc056cf8>"
            ]
          },
          "metadata": {
            "tags": []
          },
          "execution_count": 51
        },
        {
          "output_type": "display_data",
          "data": {
            "image/png": "[encoded data removed]",
            "text/plain": [
              "<Figure size 432x288 with 1 Axes>"
            ]
          },
          "metadata": {
            "tags": [],
            "needs_background": "light"
          }
        }
      ]
    },
    {
      "cell_type": "code",
      "metadata": {
        "id": "grR8sHG-s_yG",
        "outputId": "dc504dd7-18c6-442c-a006-604f1db8da63",
        "colab": {
          "base_uri": "https://localhost:8080/",
          "height": 282
        }
      },
      "source": [
        "outputs = model.predict(X)\n",
        "print(outputs.shape)\n",
        "predictions=outputs[:,0]\n",
        "\n",
        "plt.plot(Y,label='targets')\n",
        "plt.plot(predictions,label='predictions')\n",
        "plt.legend()\n",
        "plt.show()"
      ],
      "execution_count": 52,
      "outputs": [
        {
          "output_type": "stream",
          "text": [
            "(1249, 1)\n"
          ],
          "name": "stdout"
        },
        {
          "output_type": "display_data",
          "data": {
            "image/png": "[encoded data removed]",
            "text/plain": [
              "<Figure size 432x288 with 1 Axes>"
            ]
          },
          "metadata": {
            "tags": [],
            "needs_background": "light"
          }
        }
      ]
    },
    {
      "cell_type": "code",
      "metadata": {
        "id": "iW3_5TthvCNk"
      },
      "source": [
        "#Multistep forecast\n",
        "validation_target = Y[-N//2:]\n",
        "validation_predictions = []"
      ],
      "execution_count": 53,
      "outputs": []
    },
    {
      "cell_type": "code",
      "metadata": {
        "id": "oq611Fdzt5Pz",
        "outputId": "9d5f112a-65d8-4905-f6e7-e6096444d493",
        "colab": {
          "base_uri": "https://localhost:8080/",
          "height": 282
        }
      },
      "source": [
        "last_x = X[N//2]\n",
        "\n",
        "while len(validation_predictions)<len(validation_target):\n",
        "  p = model.predict(last_x.reshape(1,T,1))[0,0]\n",
        "\n",
        "  validation_predictions.append(p)\n",
        "\n",
        "  last_x = np.roll(last_x,-1)\n",
        "  last_x[-1]=p\n",
        "\n",
        "plt.plot(validation_target, label='forecasting target')\n",
        "plt.plot(validation_predictions, label='forecast prediction')\n",
        "plt.legend()"
      ],
      "execution_count": 54,
      "outputs": [
        {
          "output_type": "execute_result",
          "data": {
            "text/plain": [
              "<matplotlib.legend.Legend at 0x7f92d86ff198>"
            ]
          },
          "metadata": {
            "tags": []
          },
          "execution_count": 54
        },
        {
          "output_type": "display_data",
          "data": {
            "image/png": "[encoded data removed]",
            "text/plain": [
              "<Figure size 432x288 with 1 Axes>"
            ]
          },
          "metadata": {
            "tags": [],
            "needs_background": "light"
          }
        }
      ]
    },
    {
      "cell_type": "markdown",
      "metadata": {
        "id": "-GetKyEiZ8eR"
      },
      "source": [
        "##Returns Prediction"
      ]
    },
    {
      "cell_type": "code",
      "metadata": {
        "id": "8c8p4jxlwUMT"
      },
      "source": [
        "df['PrevClose'] = df['close'].shift(1)"
      ],
      "execution_count": 55,
      "outputs": []
    },
    {
      "cell_type": "code",
      "metadata": {
        "id": "GxoDk1zfOVmY",
        "outputId": "121c484d-d7b0-41c0-8195-7a041358cb02",
        "colab": {
          "base_uri": "https://localhost:8080/",
          "height": 204
        }
      },
      "source": [
        "df.head()"
      ],
      "execution_count": 56,
      "outputs": [
        {
          "output_type": "execute_result",
          "data": {
            "text/html": [
              "<div>\n",
              "<style scoped>\n",
              "    .dataframe tbody tr th:only-of-type {\n",
              "        vertical-align: middle;\n",
              "    }\n",
              "\n",
              "    .dataframe tbody tr th {\n",
              "        vertical-align: top;\n",
              "    }\n",
              "\n",
              "    .dataframe thead th {\n",
              "        text-align: right;\n",
              "    }\n",
              "</style>\n",
              "<table border=\"1\" class=\"dataframe\">\n",
              "  <thead>\n",
              "    <tr style=\"text-align: right;\">\n",
              "      <th></th>\n",
              "      <th>date</th>\n",
              "      <th>open</th>\n",
              "      <th>high</th>\n",
              "      <th>low</th>\n",
              "      <th>close</th>\n",
              "      <th>volume</th>\n",
              "      <th>Name</th>\n",
              "      <th>PrevClose</th>\n",
              "    </tr>\n",
              "  </thead>\n",
              "  <tbody>\n",
              "    <tr>\n",
              "      <th>0</th>\n",
              "      <td>2013-02-08</td>\n",
              "      <td>27.920</td>\n",
              "      <td>28.325</td>\n",
              "      <td>27.920</td>\n",
              "      <td>28.185</td>\n",
              "      <td>7146296</td>\n",
              "      <td>SBUX</td>\n",
              "      <td>NaN</td>\n",
              "    </tr>\n",
              "    <tr>\n",
              "      <th>1</th>\n",
              "      <td>2013-02-11</td>\n",
              "      <td>28.260</td>\n",
              "      <td>28.260</td>\n",
              "      <td>27.930</td>\n",
              "      <td>28.070</td>\n",
              "      <td>5457354</td>\n",
              "      <td>SBUX</td>\n",
              "      <td>28.185</td>\n",
              "    </tr>\n",
              "    <tr>\n",
              "      <th>2</th>\n",
              "      <td>2013-02-12</td>\n",
              "      <td>28.000</td>\n",
              "      <td>28.275</td>\n",
              "      <td>27.975</td>\n",
              "      <td>28.130</td>\n",
              "      <td>8665592</td>\n",
              "      <td>SBUX</td>\n",
              "      <td>28.070</td>\n",
              "    </tr>\n",
              "    <tr>\n",
              "      <th>3</th>\n",
              "      <td>2013-02-13</td>\n",
              "      <td>28.230</td>\n",
              "      <td>28.230</td>\n",
              "      <td>27.750</td>\n",
              "      <td>27.915</td>\n",
              "      <td>7022056</td>\n",
              "      <td>SBUX</td>\n",
              "      <td>28.130</td>\n",
              "    </tr>\n",
              "    <tr>\n",
              "      <th>4</th>\n",
              "      <td>2013-02-14</td>\n",
              "      <td>27.765</td>\n",
              "      <td>27.905</td>\n",
              "      <td>27.675</td>\n",
              "      <td>27.775</td>\n",
              "      <td>8899188</td>\n",
              "      <td>SBUX</td>\n",
              "      <td>27.915</td>\n",
              "    </tr>\n",
              "  </tbody>\n",
              "</table>\n",
              "</div>"
            ],
            "text/plain": [
              "         date    open    high     low   close   volume  Name  PrevClose\n",
              "0  2013-02-08  27.920  28.325  27.920  28.185  7146296  SBUX        NaN\n",
              "1  2013-02-11  28.260  28.260  27.930  28.070  5457354  SBUX     28.185\n",
              "2  2013-02-12  28.000  28.275  27.975  28.130  8665592  SBUX     28.070\n",
              "3  2013-02-13  28.230  28.230  27.750  27.915  7022056  SBUX     28.130\n",
              "4  2013-02-14  27.765  27.905  27.675  27.775  8899188  SBUX     27.915"
            ]
          },
          "metadata": {
            "tags": []
          },
          "execution_count": 56
        }
      ]
    },
    {
      "cell_type": "code",
      "metadata": {
        "id": "rS24FUsrOmkE"
      },
      "source": [
        "df['Return'] = (df['close'] - df['PrevClose']) / df['PrevClose']"
      ],
      "execution_count": 57,
      "outputs": []
    },
    {
      "cell_type": "code",
      "metadata": {
        "id": "FgFy9FgAPB5u",
        "outputId": "24000f02-b3bd-4897-d9c9-f24648e0e797",
        "colab": {
          "base_uri": "https://localhost:8080/",
          "height": 204
        }
      },
      "source": [
        "df.head()"
      ],
      "execution_count": 58,
      "outputs": [
        {
          "output_type": "execute_result",
          "data": {
            "text/html": [
              "<div>\n",
              "<style scoped>\n",
              "    .dataframe tbody tr th:only-of-type {\n",
              "        vertical-align: middle;\n",
              "    }\n",
              "\n",
              "    .dataframe tbody tr th {\n",
              "        vertical-align: top;\n",
              "    }\n",
              "\n",
              "    .dataframe thead th {\n",
              "        text-align: right;\n",
              "    }\n",
              "</style>\n",
              "<table border=\"1\" class=\"dataframe\">\n",
              "  <thead>\n",
              "    <tr style=\"text-align: right;\">\n",
              "      <th></th>\n",
              "      <th>date</th>\n",
              "      <th>open</th>\n",
              "      <th>high</th>\n",
              "      <th>low</th>\n",
              "      <th>close</th>\n",
              "      <th>volume</th>\n",
              "      <th>Name</th>\n",
              "      <th>PrevClose</th>\n",
              "      <th>Return</th>\n",
              "    </tr>\n",
              "  </thead>\n",
              "  <tbody>\n",
              "    <tr>\n",
              "      <th>0</th>\n",
              "      <td>2013-02-08</td>\n",
              "      <td>27.920</td>\n",
              "      <td>28.325</td>\n",
              "      <td>27.920</td>\n",
              "      <td>28.185</td>\n",
              "      <td>7146296</td>\n",
              "      <td>SBUX</td>\n",
              "      <td>NaN</td>\n",
              "      <td>NaN</td>\n",
              "    </tr>\n",
              "    <tr>\n",
              "      <th>1</th>\n",
              "      <td>2013-02-11</td>\n",
              "      <td>28.260</td>\n",
              "      <td>28.260</td>\n",
              "      <td>27.930</td>\n",
              "      <td>28.070</td>\n",
              "      <td>5457354</td>\n",
              "      <td>SBUX</td>\n",
              "      <td>28.185</td>\n",
              "      <td>-0.004080</td>\n",
              "    </tr>\n",
              "    <tr>\n",
              "      <th>2</th>\n",
              "      <td>2013-02-12</td>\n",
              "      <td>28.000</td>\n",
              "      <td>28.275</td>\n",
              "      <td>27.975</td>\n",
              "      <td>28.130</td>\n",
              "      <td>8665592</td>\n",
              "      <td>SBUX</td>\n",
              "      <td>28.070</td>\n",
              "      <td>0.002138</td>\n",
              "    </tr>\n",
              "    <tr>\n",
              "      <th>3</th>\n",
              "      <td>2013-02-13</td>\n",
              "      <td>28.230</td>\n",
              "      <td>28.230</td>\n",
              "      <td>27.750</td>\n",
              "      <td>27.915</td>\n",
              "      <td>7022056</td>\n",
              "      <td>SBUX</td>\n",
              "      <td>28.130</td>\n",
              "      <td>-0.007643</td>\n",
              "    </tr>\n",
              "    <tr>\n",
              "      <th>4</th>\n",
              "      <td>2013-02-14</td>\n",
              "      <td>27.765</td>\n",
              "      <td>27.905</td>\n",
              "      <td>27.675</td>\n",
              "      <td>27.775</td>\n",
              "      <td>8899188</td>\n",
              "      <td>SBUX</td>\n",
              "      <td>27.915</td>\n",
              "      <td>-0.005015</td>\n",
              "    </tr>\n",
              "  </tbody>\n",
              "</table>\n",
              "</div>"
            ],
            "text/plain": [
              "         date    open    high     low  ...   volume  Name PrevClose    Return\n",
              "0  2013-02-08  27.920  28.325  27.920  ...  7146296  SBUX       NaN       NaN\n",
              "1  2013-02-11  28.260  28.260  27.930  ...  5457354  SBUX    28.185 -0.004080\n",
              "2  2013-02-12  28.000  28.275  27.975  ...  8665592  SBUX    28.070  0.002138\n",
              "3  2013-02-13  28.230  28.230  27.750  ...  7022056  SBUX    28.130 -0.007643\n",
              "4  2013-02-14  27.765  27.905  27.675  ...  8899188  SBUX    27.915 -0.005015\n",
              "\n",
              "[5 rows x 9 columns]"
            ]
          },
          "metadata": {
            "tags": []
          },
          "execution_count": 58
        }
      ]
    },
    {
      "cell_type": "code",
      "metadata": {
        "id": "09jfJEJePFxP",
        "outputId": "6126fd7d-b023-4e3a-b2a1-64eb5ba36588",
        "colab": {
          "base_uri": "https://localhost:8080/",
          "height": 282
        }
      },
      "source": [
        "df['Return'].hist()"
      ],
      "execution_count": 59,
      "outputs": [
        {
          "output_type": "execute_result",
          "data": {
            "text/plain": [
              "<matplotlib.axes._subplots.AxesSubplot at 0x7f92dc43eba8>"
            ]
          },
          "metadata": {
            "tags": []
          },
          "execution_count": 59
        },
        {
          "output_type": "display_data",
          "data": {
            "image/png": "[encoded data removed]",
            "text/plain": [
              "<Figure size 432x288 with 1 Axes>"
            ]
          },
          "metadata": {
            "tags": [],
            "needs_background": "light"
          }
        }
      ]
    },
    {
      "cell_type": "code",
      "metadata": {
        "id": "V9muki2uPQQ5"
      },
      "source": [
        "series = df['Return'].values[1:].reshape(-1,1)"
      ],
      "execution_count": 60,
      "outputs": []
    },
    {
      "cell_type": "code",
      "metadata": {
        "id": "Dtjo4HDSPgUx"
      },
      "source": [
        "scaler = StandardScaler()\n",
        "scaler.fit(series[:len(series)//2])\n",
        "series = scaler.transform(series).flatten()"
      ],
      "execution_count": 61,
      "outputs": []
    },
    {
      "cell_type": "code",
      "metadata": {
        "id": "Ary16F5nP3Rb",
        "outputId": "cb20bfaa-a7cd-4902-a251-988c53cf65e2",
        "colab": {
          "base_uri": "https://localhost:8080/",
          "height": 34
        }
      },
      "source": [
        "T = 10\n",
        "D = 1\n",
        "X = []\n",
        "Y = []\n",
        "for t in range(len(series)-T):\n",
        "  x = series[t:t+T]\n",
        "  X.append(x)\n",
        "  y = series[t+T]\n",
        "  Y.append(y)\n",
        "\n",
        "X = np.array(X).reshape(-1,T,1)\n",
        "Y = np.array(Y)\n",
        "N = len(X)\n",
        "print(\"X.shape\", X.shape, \"Y.shape\", Y.shape)"
      ],
      "execution_count": 62,
      "outputs": [
        {
          "output_type": "stream",
          "text": [
            "X.shape (1248, 10, 1) Y.shape (1248,)\n"
          ],
          "name": "stdout"
        }
      ]
    },
    {
      "cell_type": "code",
      "metadata": {
        "id": "qpLgGJQZRLhc",
        "outputId": "0d460b90-230e-452a-987d-27ca81bad59f",
        "colab": {
          "base_uri": "https://localhost:8080/",
          "height": 1000
        }
      },
      "source": [
        "i =  Input(shape=(T,1))\n",
        "x = LSTM(5)(i)\n",
        "x = Dense(1)(x)\n",
        "model = Model(i,x)\n",
        "model.compile(\n",
        "    loss = 'mse',\n",
        "    optimizer = Adam(lr=0.01),\n",
        ")\n",
        "\n",
        "r = model.fit(\n",
        "    X[:-N//2], Y[:-N//2],\n",
        "    epochs = 80,\n",
        "    validation_data=(X[-N//2:], Y[-N//2:]),\n",
        ")"
      ],
      "execution_count": 63,
      "outputs": [
        {
          "output_type": "stream",
          "text": [
            "Epoch 1/80\n",
            "20/20 [==============================] - 0s 23ms/step - loss: 1.0162 - val_loss: 1.1392\n",
            "Epoch 2/80\n",
            "20/20 [==============================] - 0s 6ms/step - loss: 0.9939 - val_loss: 1.1421\n",
            "Epoch 3/80\n",
            "20/20 [==============================] - 0s 6ms/step - loss: 0.9833 - val_loss: 1.1575\n",
            "Epoch 4/80\n",
            "20/20 [==============================] - 0s 6ms/step - loss: 0.9875 - val_loss: 1.1617\n",
            "Epoch 5/80\n",
            "20/20 [==============================] - 0s 6ms/step - loss: 0.9879 - val_loss: 1.1443\n",
            "Epoch 6/80\n",
            "20/20 [==============================] - 0s 6ms/step - loss: 0.9824 - val_loss: 1.1655\n",
            "Epoch 7/80\n",
            "20/20 [==============================] - 0s 6ms/step - loss: 0.9813 - val_loss: 1.1584\n",
            "Epoch 8/80\n",
            "20/20 [==============================] - 0s 6ms/step - loss: 0.9810 - val_loss: 1.1505\n",
            "Epoch 9/80\n",
            "20/20 [==============================] - 0s 6ms/step - loss: 0.9810 - val_loss: 1.1588\n",
            "Epoch 10/80\n",
            "20/20 [==============================] - 0s 6ms/step - loss: 0.9797 - val_loss: 1.1614\n",
            "Epoch 11/80\n",
            "20/20 [==============================] - 0s 7ms/step - loss: 0.9796 - val_loss: 1.1636\n",
            "Epoch 12/80\n",
            "20/20 [==============================] - 0s 7ms/step - loss: 0.9788 - val_loss: 1.1675\n",
            "Epoch 13/80\n",
            "20/20 [==============================] - 0s 6ms/step - loss: 0.9810 - val_loss: 1.1594\n",
            "Epoch 14/80\n",
            "20/20 [==============================] - 0s 6ms/step - loss: 0.9796 - val_loss: 1.1601\n",
            "Epoch 15/80\n",
            "20/20 [==============================] - 0s 6ms/step - loss: 0.9782 - val_loss: 1.1630\n",
            "Epoch 16/80\n",
            "20/20 [==============================] - 0s 6ms/step - loss: 0.9752 - val_loss: 1.1628\n",
            "Epoch 17/80\n",
            "20/20 [==============================] - 0s 6ms/step - loss: 0.9729 - val_loss: 1.1539\n",
            "Epoch 18/80\n",
            "20/20 [==============================] - 0s 6ms/step - loss: 0.9717 - val_loss: 1.1698\n",
            "Epoch 19/80\n",
            "20/20 [==============================] - 0s 6ms/step - loss: 0.9660 - val_loss: 1.1835\n",
            "Epoch 20/80\n",
            "20/20 [==============================] - 0s 6ms/step - loss: 0.9628 - val_loss: 1.1729\n",
            "Epoch 21/80\n",
            "20/20 [==============================] - 0s 6ms/step - loss: 0.9583 - val_loss: 1.2401\n",
            "Epoch 22/80\n",
            "20/20 [==============================] - 0s 6ms/step - loss: 0.9546 - val_loss: 1.1816\n",
            "Epoch 23/80\n",
            "20/20 [==============================] - 0s 6ms/step - loss: 0.9615 - val_loss: 1.2568\n",
            "Epoch 24/80\n",
            "20/20 [==============================] - 0s 6ms/step - loss: 0.9595 - val_loss: 1.1935\n",
            "Epoch 25/80\n",
            "20/20 [==============================] - 0s 6ms/step - loss: 0.9384 - val_loss: 1.2316\n",
            "Epoch 26/80\n",
            "20/20 [==============================] - 0s 6ms/step - loss: 0.9260 - val_loss: 1.2580\n",
            "Epoch 27/80\n",
            "20/20 [==============================] - 0s 6ms/step - loss: 0.9265 - val_loss: 1.2736\n",
            "Epoch 28/80\n",
            "20/20 [==============================] - 0s 7ms/step - loss: 0.9175 - val_loss: 1.2646\n",
            "Epoch 29/80\n",
            "20/20 [==============================] - 0s 6ms/step - loss: 0.9137 - val_loss: 1.3051\n",
            "Epoch 30/80\n",
            "20/20 [==============================] - 0s 6ms/step - loss: 0.9108 - val_loss: 1.2569\n",
            "Epoch 31/80\n",
            "20/20 [==============================] - 0s 6ms/step - loss: 0.9057 - val_loss: 1.2734\n",
            "Epoch 32/80\n",
            "20/20 [==============================] - 0s 6ms/step - loss: 0.9023 - val_loss: 1.3058\n",
            "Epoch 33/80\n",
            "20/20 [==============================] - 0s 6ms/step - loss: 0.8969 - val_loss: 1.2871\n",
            "Epoch 34/80\n",
            "20/20 [==============================] - 0s 6ms/step - loss: 0.8903 - val_loss: 1.2893\n",
            "Epoch 35/80\n",
            "20/20 [==============================] - 0s 6ms/step - loss: 0.8856 - val_loss: 1.3221\n",
            "Epoch 36/80\n",
            "20/20 [==============================] - 0s 6ms/step - loss: 0.8924 - val_loss: 1.2988\n",
            "Epoch 37/80\n",
            "20/20 [==============================] - 0s 6ms/step - loss: 0.8799 - val_loss: 1.3190\n",
            "Epoch 38/80\n",
            "20/20 [==============================] - 0s 6ms/step - loss: 0.8850 - val_loss: 1.3421\n",
            "Epoch 39/80\n",
            "20/20 [==============================] - 0s 6ms/step - loss: 0.8665 - val_loss: 1.3214\n",
            "Epoch 40/80\n",
            "20/20 [==============================] - 0s 6ms/step - loss: 0.8676 - val_loss: 1.3534\n",
            "Epoch 41/80\n",
            "20/20 [==============================] - 0s 6ms/step - loss: 0.8554 - val_loss: 1.3249\n",
            "Epoch 42/80\n",
            "20/20 [==============================] - 0s 6ms/step - loss: 0.8552 - val_loss: 1.3416\n",
            "Epoch 43/80\n",
            "20/20 [==============================] - 0s 6ms/step - loss: 0.8485 - val_loss: 1.3551\n",
            "Epoch 44/80\n",
            "20/20 [==============================] - 0s 6ms/step - loss: 0.8505 - val_loss: 1.3358\n",
            "Epoch 45/80\n",
            "20/20 [==============================] - 0s 6ms/step - loss: 0.8481 - val_loss: 1.3994\n",
            "Epoch 46/80\n",
            "20/20 [==============================] - 0s 6ms/step - loss: 0.8545 - val_loss: 1.3481\n",
            "Epoch 47/80\n",
            "20/20 [==============================] - 0s 6ms/step - loss: 0.8428 - val_loss: 1.3774\n",
            "Epoch 48/80\n",
            "20/20 [==============================] - 0s 6ms/step - loss: 0.8386 - val_loss: 1.3958\n",
            "Epoch 49/80\n",
            "20/20 [==============================] - 0s 6ms/step - loss: 0.8284 - val_loss: 1.3818\n",
            "Epoch 50/80\n",
            "20/20 [==============================] - 0s 6ms/step - loss: 0.8369 - val_loss: 1.3680\n",
            "Epoch 51/80\n",
            "20/20 [==============================] - 0s 6ms/step - loss: 0.8220 - val_loss: 1.3849\n",
            "Epoch 52/80\n",
            "20/20 [==============================] - 0s 6ms/step - loss: 0.8255 - val_loss: 1.4108\n",
            "Epoch 53/80\n",
            "20/20 [==============================] - 0s 6ms/step - loss: 0.8208 - val_loss: 1.3962\n",
            "Epoch 54/80\n",
            "20/20 [==============================] - 0s 6ms/step - loss: 0.8131 - val_loss: 1.3971\n",
            "Epoch 55/80\n",
            "20/20 [==============================] - 0s 6ms/step - loss: 0.8238 - val_loss: 1.4053\n",
            "Epoch 56/80\n",
            "20/20 [==============================] - 0s 6ms/step - loss: 0.8062 - val_loss: 1.4115\n",
            "Epoch 57/80\n",
            "20/20 [==============================] - 0s 6ms/step - loss: 0.8003 - val_loss: 1.4285\n",
            "Epoch 58/80\n",
            "20/20 [==============================] - 0s 6ms/step - loss: 0.8069 - val_loss: 1.4326\n",
            "Epoch 59/80\n",
            "20/20 [==============================] - 0s 6ms/step - loss: 0.8102 - val_loss: 1.4179\n",
            "Epoch 60/80\n",
            "20/20 [==============================] - 0s 6ms/step - loss: 0.7924 - val_loss: 1.4321\n",
            "Epoch 61/80\n",
            "20/20 [==============================] - 0s 6ms/step - loss: 0.7925 - val_loss: 1.4267\n",
            "Epoch 62/80\n",
            "20/20 [==============================] - 0s 6ms/step - loss: 0.7891 - val_loss: 1.4264\n",
            "Epoch 63/80\n",
            "20/20 [==============================] - 0s 6ms/step - loss: 0.7847 - val_loss: 1.4325\n",
            "Epoch 64/80\n",
            "20/20 [==============================] - 0s 6ms/step - loss: 0.7829 - val_loss: 1.4630\n",
            "Epoch 65/80\n",
            "20/20 [==============================] - 0s 6ms/step - loss: 0.7790 - val_loss: 1.4250\n",
            "Epoch 66/80\n",
            "20/20 [==============================] - 0s 6ms/step - loss: 0.7734 - val_loss: 1.4355\n",
            "Epoch 67/80\n",
            "20/20 [==============================] - 0s 6ms/step - loss: 0.7769 - val_loss: 1.4662\n",
            "Epoch 68/80\n",
            "20/20 [==============================] - 0s 6ms/step - loss: 0.7708 - val_loss: 1.4328\n",
            "Epoch 69/80\n",
            "20/20 [==============================] - 0s 6ms/step - loss: 0.7796 - val_loss: 1.4511\n",
            "Epoch 70/80\n",
            "20/20 [==============================] - 0s 6ms/step - loss: 0.7789 - val_loss: 1.4266\n",
            "Epoch 71/80\n",
            "20/20 [==============================] - 0s 6ms/step - loss: 0.7672 - val_loss: 1.4553\n",
            "Epoch 72/80\n",
            "20/20 [==============================] - 0s 6ms/step - loss: 0.7568 - val_loss: 1.4341\n",
            "Epoch 73/80\n",
            "20/20 [==============================] - 0s 6ms/step - loss: 0.7587 - val_loss: 1.4548\n",
            "Epoch 74/80\n",
            "20/20 [==============================] - 0s 6ms/step - loss: 0.7450 - val_loss: 1.4761\n",
            "Epoch 75/80\n",
            "20/20 [==============================] - 0s 6ms/step - loss: 0.7451 - val_loss: 1.4959\n",
            "Epoch 76/80\n",
            "20/20 [==============================] - 0s 6ms/step - loss: 0.7481 - val_loss: 1.4770\n",
            "Epoch 77/80\n",
            "20/20 [==============================] - 0s 8ms/step - loss: 0.7348 - val_loss: 1.4688\n",
            "Epoch 78/80\n",
            "20/20 [==============================] - 0s 7ms/step - loss: 0.7273 - val_loss: 1.4813\n",
            "Epoch 79/80\n",
            "20/20 [==============================] - 0s 6ms/step - loss: 0.7301 - val_loss: 1.4485\n",
            "Epoch 80/80\n",
            "20/20 [==============================] - 0s 6ms/step - loss: 0.7327 - val_loss: 1.4568\n"
          ],
          "name": "stdout"
        }
      ]
    },
    {
      "cell_type": "code",
      "metadata": {
        "id": "pQw1-K9KaNGj",
        "outputId": "ba78df8a-96cf-4b19-e52f-89c64ce31cf6",
        "colab": {
          "base_uri": "https://localhost:8080/",
          "height": 312
        }
      },
      "source": [
        "tf.keras.utils.plot_model(model, show_shapes=True)"
      ],
      "execution_count": 64,
      "outputs": [
        {
          "output_type": "execute_result",
          "data": {
            "image/png": "[encoded data removed]",
            "text/plain": [
              "<IPython.core.display.Image object>"
            ]
          },
          "metadata": {
            "tags": []
          },
          "execution_count": 64
        }
      ]
    },
    {
      "cell_type": "code",
      "metadata": {
        "id": "x5LoF_0wSTAP",
        "outputId": "e1189b3a-c909-47ed-8bbc-8fec659d744a",
        "colab": {
          "base_uri": "https://localhost:8080/",
          "height": 282
        }
      },
      "source": [
        "import matplotlib.pyplot as plt\n",
        "plt.plot(r.history['loss'], label='loss')\n",
        "plt.plot(r.history['val_loss'], label='val_loss')\n",
        "plt.legend()"
      ],
      "execution_count": 65,
      "outputs": [
        {
          "output_type": "execute_result",
          "data": {
            "text/plain": [
              "<matplotlib.legend.Legend at 0x7f92db2e3710>"
            ]
          },
          "metadata": {
            "tags": []
          },
          "execution_count": 65
        },
        {
          "output_type": "display_data",
          "data": {
            "image/png": "[encoded data removed]",
            "text/plain": [
              "<Figure size 432x288 with 1 Axes>"
            ]
          },
          "metadata": {
            "tags": [],
            "needs_background": "light"
          }
        }
      ]
    },
    {
      "cell_type": "code",
      "metadata": {
        "id": "Xr0KzH3ISzIn",
        "outputId": "17f4fbe7-a592-438f-d405-7e97fcf21c90",
        "colab": {
          "base_uri": "https://localhost:8080/",
          "height": 282
        }
      },
      "source": [
        "outputs = model.predict(X)\n",
        "print(outputs.shape)\n",
        "predictions = outputs[:,0]\n",
        "\n",
        "plt.plot(Y, label='targets')\n",
        "plt.plot(predictions, label='predictions')\n",
        "plt.legend()\n",
        "plt.show()"
      ],
      "execution_count": 66,
      "outputs": [
        {
          "output_type": "stream",
          "text": [
            "(1248, 1)\n"
          ],
          "name": "stdout"
        },
        {
          "output_type": "display_data",
          "data": {
            "image/png": "[encoded data removed]",
            "text/plain": [
              "<Figure size 432x288 with 1 Axes>"
            ]
          },
          "metadata": {
            "tags": [],
            "needs_background": "light"
          }
        }
      ]
    },
    {
      "cell_type": "code",
      "metadata": {
        "id": "UkxsPN0iTQds",
        "outputId": "995a0e97-a5bf-46f3-f0cc-bf99afe49513",
        "colab": {
          "base_uri": "https://localhost:8080/",
          "height": 282
        }
      },
      "source": [
        "validation_target = Y[-N//2:]\n",
        "validation_predictions = []\n",
        "\n",
        "last_x = X[-N//2]\n",
        "\n",
        "while len(validation_predictions) < len(validation_target):\n",
        "  p = model.predict(last_x.reshape(1,T,1))[0,0]\n",
        "  validation_predictions.append(p)\n",
        "  last_x = np.roll(last_x,-1)\n",
        "  last_x[-1] = p\n",
        "\n",
        "plt.plot(validation_target, label='forecast target')\n",
        "plt.plot(validation_predictions, label='forecast prediction')\n",
        "plt.legend()"
      ],
      "execution_count": 67,
      "outputs": [
        {
          "output_type": "execute_result",
          "data": {
            "text/plain": [
              "<matplotlib.legend.Legend at 0x7f92dc73d4a8>"
            ]
          },
          "metadata": {
            "tags": []
          },
          "execution_count": 67
        },
        {
          "output_type": "display_data",
          "data": {
            "image/png": "[encoded data removed]",
            "text/plain": [
              "<Figure size 432x288 with 1 Axes>"
            ]
          },
          "metadata": {
            "tags": [],
            "needs_background": "light"
          }
        }
      ]
    },
    {
      "cell_type": "markdown",
      "metadata": {
        "id": "q6D-VPMbXtfi"
      },
      "source": [
        "##Directional Classification"
      ]
    },
    {
      "cell_type": "code",
      "metadata": {
        "id": "6_J8Ce6cU9au"
      },
      "source": [
        "input_data = df[['open', 'high', 'low', 'close', 'volume']].values\n",
        "targets = df['Return'].values"
      ],
      "execution_count": 68,
      "outputs": []
    },
    {
      "cell_type": "code",
      "metadata": {
        "id": "MdB1dlwyWell"
      },
      "source": [
        "T = 10\n",
        "D = input_data.shape[1]\n",
        "N = len(input_data)-T"
      ],
      "execution_count": 69,
      "outputs": []
    },
    {
      "cell_type": "code",
      "metadata": {
        "id": "j3m6XHMwXBq-"
      },
      "source": [
        "Ntrain =  len(input_data) * 2 //3\n",
        "scaler = StandardScaler()\n",
        "scaler.fit(input_data[:Ntrain + T])\n",
        "input_data = scaler.transform(input_data)"
      ],
      "execution_count": 70,
      "outputs": []
    },
    {
      "cell_type": "code",
      "metadata": {
        "id": "k5AIFgaXYDFc"
      },
      "source": [
        "X_train = np.zeros((Ntrain,T,D))\n",
        "Y_train = np.zeros(Ntrain)\n",
        "\n",
        "for t in range(Ntrain):\n",
        "  X_train[t,:,:] = input_data[t:t+T]\n",
        "  Y_train[t] = (targets[t+T] > 0)"
      ],
      "execution_count": 71,
      "outputs": []
    },
    {
      "cell_type": "code",
      "metadata": {
        "id": "OXKTwj08Y6Sv"
      },
      "source": [
        "X_test = np.zeros((N-Ntrain, T, D))\n",
        "Y_test = np.zeros(N-Ntrain)\n",
        "\n",
        "for u in range(N - Ntrain):\n",
        "  t=u+Ntrain\n",
        "  X_test[u,:,:] = input_data[t:t+T]\n",
        "  Y_test[u] = (targets[t+T]>0)"
      ],
      "execution_count": 72,
      "outputs": []
    },
    {
      "cell_type": "code",
      "metadata": {
        "id": "vCIkC8CPaA58"
      },
      "source": [
        "i = Input(shape=(T,D))\n",
        "x = LSTM(50)(i)\n",
        "x = Dense(1, activation='sigmoid')(x)\n",
        "model = Model(i,x)\n",
        "model.compile(\n",
        "    loss='binary_crossentropy',\n",
        "    optimizer=Adam(lr=0.001),\n",
        "    metrics=['accuracy'],\n",
        ")"
      ],
      "execution_count": 73,
      "outputs": []
    },
    {
      "cell_type": "code",
      "metadata": {
        "id": "gMgKaGsra-rd",
        "outputId": "e5b12791-f2a3-4916-e405-64827c383d1e",
        "colab": {
          "base_uri": "https://localhost:8080/",
          "height": 1000
        }
      },
      "source": [
        "r = model.fit(\n",
        "    X_train, Y_train,\n",
        "    batch_size=32,\n",
        "    epochs = 300,\n",
        "    validation_data = (X_test, Y_test),\n",
        ")"
      ],
      "execution_count": 74,
      "outputs": [
        {
          "output_type": "stream",
          "text": [
            "Epoch 1/300\n",
            "27/27 [==============================] - 1s 20ms/step - loss: 0.6981 - accuracy: 0.4791 - val_loss: 0.6988 - val_accuracy: 0.4854\n",
            "Epoch 2/300\n",
            "27/27 [==============================] - 0s 6ms/step - loss: 0.6939 - accuracy: 0.5280 - val_loss: 0.6943 - val_accuracy: 0.4854\n",
            "Epoch 3/300\n",
            "27/27 [==============================] - 0s 6ms/step - loss: 0.6931 - accuracy: 0.4934 - val_loss: 0.6934 - val_accuracy: 0.5073\n",
            "Epoch 4/300\n",
            "27/27 [==============================] - 0s 7ms/step - loss: 0.6919 - accuracy: 0.5161 - val_loss: 0.6949 - val_accuracy: 0.4878\n",
            "Epoch 5/300\n",
            "27/27 [==============================] - 0s 6ms/step - loss: 0.6912 - accuracy: 0.5316 - val_loss: 0.6910 - val_accuracy: 0.5366\n",
            "Epoch 6/300\n",
            "27/27 [==============================] - 0s 6ms/step - loss: 0.6901 - accuracy: 0.5316 - val_loss: 0.6939 - val_accuracy: 0.5024\n",
            "Epoch 7/300\n",
            "27/27 [==============================] - 0s 6ms/step - loss: 0.6896 - accuracy: 0.5375 - val_loss: 0.6944 - val_accuracy: 0.4951\n",
            "Epoch 8/300\n",
            "27/27 [==============================] - 0s 6ms/step - loss: 0.6894 - accuracy: 0.5256 - val_loss: 0.6922 - val_accuracy: 0.4951\n",
            "Epoch 9/300\n",
            "27/27 [==============================] - 0s 6ms/step - loss: 0.6886 - accuracy: 0.5352 - val_loss: 0.6920 - val_accuracy: 0.5195\n",
            "Epoch 10/300\n",
            "27/27 [==============================] - 0s 6ms/step - loss: 0.6879 - accuracy: 0.5578 - val_loss: 0.6919 - val_accuracy: 0.5293\n",
            "Epoch 11/300\n",
            "27/27 [==============================] - 0s 6ms/step - loss: 0.6892 - accuracy: 0.5411 - val_loss: 0.6967 - val_accuracy: 0.5000\n",
            "Epoch 12/300\n",
            "27/27 [==============================] - 0s 6ms/step - loss: 0.6899 - accuracy: 0.5256 - val_loss: 0.6935 - val_accuracy: 0.4951\n",
            "Epoch 13/300\n",
            "27/27 [==============================] - 0s 6ms/step - loss: 0.6870 - accuracy: 0.5364 - val_loss: 0.6907 - val_accuracy: 0.5293\n",
            "Epoch 14/300\n",
            "27/27 [==============================] - 0s 6ms/step - loss: 0.6876 - accuracy: 0.5316 - val_loss: 0.6956 - val_accuracy: 0.4951\n",
            "Epoch 15/300\n",
            "27/27 [==============================] - 0s 6ms/step - loss: 0.6863 - accuracy: 0.5495 - val_loss: 0.6944 - val_accuracy: 0.5049\n",
            "Epoch 16/300\n",
            "27/27 [==============================] - 0s 6ms/step - loss: 0.6870 - accuracy: 0.5304 - val_loss: 0.6902 - val_accuracy: 0.5366\n",
            "Epoch 17/300\n",
            "27/27 [==============================] - 0s 6ms/step - loss: 0.6858 - accuracy: 0.5518 - val_loss: 0.6928 - val_accuracy: 0.5244\n",
            "Epoch 18/300\n",
            "27/27 [==============================] - 0s 6ms/step - loss: 0.6858 - accuracy: 0.5626 - val_loss: 0.6916 - val_accuracy: 0.5146\n",
            "Epoch 19/300\n",
            "27/27 [==============================] - 0s 7ms/step - loss: 0.6869 - accuracy: 0.5495 - val_loss: 0.7018 - val_accuracy: 0.4951\n",
            "Epoch 20/300\n",
            "27/27 [==============================] - 0s 6ms/step - loss: 0.6863 - accuracy: 0.5399 - val_loss: 0.6927 - val_accuracy: 0.5171\n",
            "Epoch 21/300\n",
            "27/27 [==============================] - 0s 7ms/step - loss: 0.6887 - accuracy: 0.5626 - val_loss: 0.7004 - val_accuracy: 0.5024\n",
            "Epoch 22/300\n",
            "27/27 [==============================] - 0s 6ms/step - loss: 0.6875 - accuracy: 0.5173 - val_loss: 0.6934 - val_accuracy: 0.5195\n",
            "Epoch 23/300\n",
            "27/27 [==============================] - 0s 7ms/step - loss: 0.6843 - accuracy: 0.5638 - val_loss: 0.6936 - val_accuracy: 0.5122\n",
            "Epoch 24/300\n",
            "27/27 [==============================] - 0s 7ms/step - loss: 0.6844 - accuracy: 0.5685 - val_loss: 0.6925 - val_accuracy: 0.5146\n",
            "Epoch 25/300\n",
            "27/27 [==============================] - 0s 6ms/step - loss: 0.6840 - accuracy: 0.5602 - val_loss: 0.6911 - val_accuracy: 0.5293\n",
            "Epoch 26/300\n",
            "27/27 [==============================] - 0s 6ms/step - loss: 0.6838 - accuracy: 0.5709 - val_loss: 0.6956 - val_accuracy: 0.4829\n",
            "Epoch 27/300\n",
            "27/27 [==============================] - 0s 7ms/step - loss: 0.6824 - accuracy: 0.5650 - val_loss: 0.6926 - val_accuracy: 0.5098\n",
            "Epoch 28/300\n",
            "27/27 [==============================] - 0s 7ms/step - loss: 0.6832 - accuracy: 0.5578 - val_loss: 0.6932 - val_accuracy: 0.5171\n",
            "Epoch 29/300\n",
            "27/27 [==============================] - 0s 6ms/step - loss: 0.6861 - accuracy: 0.5530 - val_loss: 0.6910 - val_accuracy: 0.5220\n",
            "Epoch 30/300\n",
            "27/27 [==============================] - 0s 6ms/step - loss: 0.6828 - accuracy: 0.5757 - val_loss: 0.6957 - val_accuracy: 0.5024\n",
            "Epoch 31/300\n",
            "27/27 [==============================] - 0s 6ms/step - loss: 0.6821 - accuracy: 0.5685 - val_loss: 0.6964 - val_accuracy: 0.4927\n",
            "Epoch 32/300\n",
            "27/27 [==============================] - 0s 6ms/step - loss: 0.6825 - accuracy: 0.5554 - val_loss: 0.6959 - val_accuracy: 0.5098\n",
            "Epoch 33/300\n",
            "27/27 [==============================] - 0s 6ms/step - loss: 0.6809 - accuracy: 0.5721 - val_loss: 0.6943 - val_accuracy: 0.5171\n",
            "Epoch 34/300\n",
            "27/27 [==============================] - 0s 6ms/step - loss: 0.6810 - accuracy: 0.5721 - val_loss: 0.6939 - val_accuracy: 0.5171\n",
            "Epoch 35/300\n",
            "27/27 [==============================] - 0s 6ms/step - loss: 0.6797 - accuracy: 0.5697 - val_loss: 0.6971 - val_accuracy: 0.5000\n",
            "Epoch 36/300\n",
            "27/27 [==============================] - 0s 6ms/step - loss: 0.6791 - accuracy: 0.5828 - val_loss: 0.6921 - val_accuracy: 0.5268\n",
            "Epoch 37/300\n",
            "27/27 [==============================] - 0s 6ms/step - loss: 0.6794 - accuracy: 0.5530 - val_loss: 0.6956 - val_accuracy: 0.5122\n",
            "Epoch 38/300\n",
            "27/27 [==============================] - 0s 7ms/step - loss: 0.6793 - accuracy: 0.5518 - val_loss: 0.6936 - val_accuracy: 0.5341\n",
            "Epoch 39/300\n",
            "27/27 [==============================] - 0s 6ms/step - loss: 0.6789 - accuracy: 0.5757 - val_loss: 0.6931 - val_accuracy: 0.5220\n",
            "Epoch 40/300\n",
            "27/27 [==============================] - 0s 6ms/step - loss: 0.6780 - accuracy: 0.5709 - val_loss: 0.6986 - val_accuracy: 0.4951\n",
            "Epoch 41/300\n",
            "27/27 [==============================] - 0s 6ms/step - loss: 0.6769 - accuracy: 0.5542 - val_loss: 0.6969 - val_accuracy: 0.5073\n",
            "Epoch 42/300\n",
            "27/27 [==============================] - 0s 6ms/step - loss: 0.6761 - accuracy: 0.5578 - val_loss: 0.6950 - val_accuracy: 0.5195\n",
            "Epoch 43/300\n",
            "27/27 [==============================] - 0s 6ms/step - loss: 0.6787 - accuracy: 0.5769 - val_loss: 0.6979 - val_accuracy: 0.5073\n",
            "Epoch 44/300\n",
            "27/27 [==============================] - 0s 6ms/step - loss: 0.6767 - accuracy: 0.5757 - val_loss: 0.7001 - val_accuracy: 0.4854\n",
            "Epoch 45/300\n",
            "27/27 [==============================] - 0s 6ms/step - loss: 0.6748 - accuracy: 0.5697 - val_loss: 0.6967 - val_accuracy: 0.5171\n",
            "Epoch 46/300\n",
            "27/27 [==============================] - 0s 6ms/step - loss: 0.6748 - accuracy: 0.5685 - val_loss: 0.6975 - val_accuracy: 0.5146\n",
            "Epoch 47/300\n",
            "27/27 [==============================] - 0s 7ms/step - loss: 0.6751 - accuracy: 0.5721 - val_loss: 0.6957 - val_accuracy: 0.5098\n",
            "Epoch 48/300\n",
            "27/27 [==============================] - 0s 7ms/step - loss: 0.6741 - accuracy: 0.5793 - val_loss: 0.6995 - val_accuracy: 0.5073\n",
            "Epoch 49/300\n",
            "27/27 [==============================] - 0s 6ms/step - loss: 0.6755 - accuracy: 0.5864 - val_loss: 0.6986 - val_accuracy: 0.5024\n",
            "Epoch 50/300\n",
            "27/27 [==============================] - 0s 6ms/step - loss: 0.6725 - accuracy: 0.5757 - val_loss: 0.6944 - val_accuracy: 0.5146\n",
            "Epoch 51/300\n",
            "27/27 [==============================] - 0s 6ms/step - loss: 0.6719 - accuracy: 0.5697 - val_loss: 0.7049 - val_accuracy: 0.4976\n",
            "Epoch 52/300\n",
            "27/27 [==============================] - 0s 6ms/step - loss: 0.6757 - accuracy: 0.5590 - val_loss: 0.6995 - val_accuracy: 0.5073\n",
            "Epoch 53/300\n",
            "27/27 [==============================] - 0s 6ms/step - loss: 0.6752 - accuracy: 0.5638 - val_loss: 0.6954 - val_accuracy: 0.5220\n",
            "Epoch 54/300\n",
            "27/27 [==============================] - 0s 6ms/step - loss: 0.6701 - accuracy: 0.5793 - val_loss: 0.6995 - val_accuracy: 0.5049\n",
            "Epoch 55/300\n",
            "27/27 [==============================] - 0s 6ms/step - loss: 0.6705 - accuracy: 0.5697 - val_loss: 0.6970 - val_accuracy: 0.5146\n",
            "Epoch 56/300\n",
            "27/27 [==============================] - 0s 7ms/step - loss: 0.6689 - accuracy: 0.5769 - val_loss: 0.7010 - val_accuracy: 0.4976\n",
            "Epoch 57/300\n",
            "27/27 [==============================] - 0s 6ms/step - loss: 0.6676 - accuracy: 0.5721 - val_loss: 0.6971 - val_accuracy: 0.5024\n",
            "Epoch 58/300\n",
            "27/27 [==============================] - 0s 6ms/step - loss: 0.6692 - accuracy: 0.5721 - val_loss: 0.7026 - val_accuracy: 0.5000\n",
            "Epoch 59/300\n",
            "27/27 [==============================] - 0s 6ms/step - loss: 0.6671 - accuracy: 0.5769 - val_loss: 0.6980 - val_accuracy: 0.5049\n",
            "Epoch 60/300\n",
            "27/27 [==============================] - 0s 6ms/step - loss: 0.6656 - accuracy: 0.5781 - val_loss: 0.6984 - val_accuracy: 0.5098\n",
            "Epoch 61/300\n",
            "27/27 [==============================] - 0s 6ms/step - loss: 0.6646 - accuracy: 0.5852 - val_loss: 0.7023 - val_accuracy: 0.5024\n",
            "Epoch 62/300\n",
            "27/27 [==============================] - 0s 7ms/step - loss: 0.6657 - accuracy: 0.5757 - val_loss: 0.6994 - val_accuracy: 0.5049\n",
            "Epoch 63/300\n",
            "27/27 [==============================] - 0s 6ms/step - loss: 0.6635 - accuracy: 0.5876 - val_loss: 0.7013 - val_accuracy: 0.4951\n",
            "Epoch 64/300\n",
            "27/27 [==============================] - 0s 6ms/step - loss: 0.6619 - accuracy: 0.5852 - val_loss: 0.7047 - val_accuracy: 0.4902\n",
            "Epoch 65/300\n",
            "27/27 [==============================] - 0s 6ms/step - loss: 0.6643 - accuracy: 0.5828 - val_loss: 0.7060 - val_accuracy: 0.5073\n",
            "Epoch 66/300\n",
            "27/27 [==============================] - 0s 7ms/step - loss: 0.6669 - accuracy: 0.5876 - val_loss: 0.7021 - val_accuracy: 0.5000\n",
            "Epoch 67/300\n",
            "27/27 [==============================] - 0s 6ms/step - loss: 0.6685 - accuracy: 0.5852 - val_loss: 0.7005 - val_accuracy: 0.5098\n",
            "Epoch 68/300\n",
            "27/27 [==============================] - 0s 6ms/step - loss: 0.6583 - accuracy: 0.6031 - val_loss: 0.7001 - val_accuracy: 0.5000\n",
            "Epoch 69/300\n",
            "27/27 [==============================] - 0s 8ms/step - loss: 0.6583 - accuracy: 0.5793 - val_loss: 0.7045 - val_accuracy: 0.5000\n",
            "Epoch 70/300\n",
            "27/27 [==============================] - 0s 6ms/step - loss: 0.6572 - accuracy: 0.6043 - val_loss: 0.7009 - val_accuracy: 0.5024\n",
            "Epoch 71/300\n",
            "27/27 [==============================] - 0s 7ms/step - loss: 0.6569 - accuracy: 0.5936 - val_loss: 0.7060 - val_accuracy: 0.5000\n",
            "Epoch 72/300\n",
            "27/27 [==============================] - 0s 6ms/step - loss: 0.6547 - accuracy: 0.5805 - val_loss: 0.7041 - val_accuracy: 0.5073\n",
            "Epoch 73/300\n",
            "27/27 [==============================] - 0s 7ms/step - loss: 0.6565 - accuracy: 0.6055 - val_loss: 0.6983 - val_accuracy: 0.4951\n",
            "Epoch 74/300\n",
            "27/27 [==============================] - 0s 7ms/step - loss: 0.6528 - accuracy: 0.5971 - val_loss: 0.7029 - val_accuracy: 0.5000\n",
            "Epoch 75/300\n",
            "27/27 [==============================] - 0s 6ms/step - loss: 0.6507 - accuracy: 0.6043 - val_loss: 0.6988 - val_accuracy: 0.5122\n",
            "Epoch 76/300\n",
            "27/27 [==============================] - 0s 6ms/step - loss: 0.6497 - accuracy: 0.6126 - val_loss: 0.7033 - val_accuracy: 0.4976\n",
            "Epoch 77/300\n",
            "27/27 [==============================] - 0s 6ms/step - loss: 0.6525 - accuracy: 0.6091 - val_loss: 0.7051 - val_accuracy: 0.5024\n",
            "Epoch 78/300\n",
            "27/27 [==============================] - 0s 7ms/step - loss: 0.6470 - accuracy: 0.5959 - val_loss: 0.7018 - val_accuracy: 0.5000\n",
            "Epoch 79/300\n",
            "27/27 [==============================] - 0s 7ms/step - loss: 0.6477 - accuracy: 0.6138 - val_loss: 0.7046 - val_accuracy: 0.4951\n",
            "Epoch 80/300\n",
            "27/27 [==============================] - 0s 7ms/step - loss: 0.6443 - accuracy: 0.6126 - val_loss: 0.7080 - val_accuracy: 0.4878\n",
            "Epoch 81/300\n",
            "27/27 [==============================] - 0s 7ms/step - loss: 0.6431 - accuracy: 0.6126 - val_loss: 0.7037 - val_accuracy: 0.5024\n",
            "Epoch 82/300\n",
            "27/27 [==============================] - 0s 7ms/step - loss: 0.6442 - accuracy: 0.6091 - val_loss: 0.7032 - val_accuracy: 0.4976\n",
            "Epoch 83/300\n",
            "27/27 [==============================] - 0s 7ms/step - loss: 0.6445 - accuracy: 0.6138 - val_loss: 0.7064 - val_accuracy: 0.4976\n",
            "Epoch 84/300\n",
            "27/27 [==============================] - 0s 7ms/step - loss: 0.6397 - accuracy: 0.6103 - val_loss: 0.7067 - val_accuracy: 0.5000\n",
            "Epoch 85/300\n",
            "27/27 [==============================] - 0s 6ms/step - loss: 0.6369 - accuracy: 0.6281 - val_loss: 0.7074 - val_accuracy: 0.4951\n",
            "Epoch 86/300\n",
            "27/27 [==============================] - 0s 6ms/step - loss: 0.6359 - accuracy: 0.6246 - val_loss: 0.7090 - val_accuracy: 0.4902\n",
            "Epoch 87/300\n",
            "27/27 [==============================] - 0s 6ms/step - loss: 0.6356 - accuracy: 0.6114 - val_loss: 0.7063 - val_accuracy: 0.5073\n",
            "Epoch 88/300\n",
            "27/27 [==============================] - 0s 7ms/step - loss: 0.6358 - accuracy: 0.6257 - val_loss: 0.7049 - val_accuracy: 0.5098\n",
            "Epoch 89/300\n",
            "27/27 [==============================] - 0s 7ms/step - loss: 0.6314 - accuracy: 0.6150 - val_loss: 0.7060 - val_accuracy: 0.5049\n",
            "Epoch 90/300\n",
            "27/27 [==============================] - 0s 6ms/step - loss: 0.6324 - accuracy: 0.6436 - val_loss: 0.7148 - val_accuracy: 0.4902\n",
            "Epoch 91/300\n",
            "27/27 [==============================] - 0s 6ms/step - loss: 0.6331 - accuracy: 0.6257 - val_loss: 0.7023 - val_accuracy: 0.4951\n",
            "Epoch 92/300\n",
            "27/27 [==============================] - 0s 6ms/step - loss: 0.6285 - accuracy: 0.6293 - val_loss: 0.7071 - val_accuracy: 0.5024\n",
            "Epoch 93/300\n",
            "27/27 [==============================] - 0s 6ms/step - loss: 0.6331 - accuracy: 0.6281 - val_loss: 0.7045 - val_accuracy: 0.5098\n",
            "Epoch 94/300\n",
            "27/27 [==============================] - 0s 6ms/step - loss: 0.6261 - accuracy: 0.6389 - val_loss: 0.7065 - val_accuracy: 0.5024\n",
            "Epoch 95/300\n",
            "27/27 [==============================] - 0s 7ms/step - loss: 0.6243 - accuracy: 0.6257 - val_loss: 0.7041 - val_accuracy: 0.4951\n",
            "Epoch 96/300\n",
            "27/27 [==============================] - 0s 7ms/step - loss: 0.6264 - accuracy: 0.6305 - val_loss: 0.7164 - val_accuracy: 0.4927\n",
            "Epoch 97/300\n",
            "27/27 [==============================] - 0s 6ms/step - loss: 0.6247 - accuracy: 0.6293 - val_loss: 0.7095 - val_accuracy: 0.5049\n",
            "Epoch 98/300\n",
            "27/27 [==============================] - 0s 7ms/step - loss: 0.6232 - accuracy: 0.6293 - val_loss: 0.7160 - val_accuracy: 0.4951\n",
            "Epoch 99/300\n",
            "27/27 [==============================] - 0s 7ms/step - loss: 0.6220 - accuracy: 0.6246 - val_loss: 0.7073 - val_accuracy: 0.4927\n",
            "Epoch 100/300\n",
            "27/27 [==============================] - 0s 7ms/step - loss: 0.6174 - accuracy: 0.6281 - val_loss: 0.7113 - val_accuracy: 0.4951\n",
            "Epoch 101/300\n",
            "27/27 [==============================] - 0s 6ms/step - loss: 0.6144 - accuracy: 0.6508 - val_loss: 0.7124 - val_accuracy: 0.5024\n",
            "Epoch 102/300\n",
            "27/27 [==============================] - 0s 7ms/step - loss: 0.6127 - accuracy: 0.6412 - val_loss: 0.7140 - val_accuracy: 0.4951\n",
            "Epoch 103/300\n",
            "27/27 [==============================] - 0s 7ms/step - loss: 0.6115 - accuracy: 0.6424 - val_loss: 0.7147 - val_accuracy: 0.4927\n",
            "Epoch 104/300\n",
            "27/27 [==============================] - 0s 7ms/step - loss: 0.6046 - accuracy: 0.6484 - val_loss: 0.7159 - val_accuracy: 0.4927\n",
            "Epoch 105/300\n",
            "27/27 [==============================] - 0s 6ms/step - loss: 0.6069 - accuracy: 0.6567 - val_loss: 0.7119 - val_accuracy: 0.4829\n",
            "Epoch 106/300\n",
            "27/27 [==============================] - 0s 7ms/step - loss: 0.6055 - accuracy: 0.6460 - val_loss: 0.7166 - val_accuracy: 0.4854\n",
            "Epoch 107/300\n",
            "27/27 [==============================] - 0s 7ms/step - loss: 0.6036 - accuracy: 0.6496 - val_loss: 0.7293 - val_accuracy: 0.4829\n",
            "Epoch 108/300\n",
            "27/27 [==============================] - 0s 6ms/step - loss: 0.6007 - accuracy: 0.6663 - val_loss: 0.7127 - val_accuracy: 0.4805\n",
            "Epoch 109/300\n",
            "27/27 [==============================] - 0s 7ms/step - loss: 0.5994 - accuracy: 0.6722 - val_loss: 0.7170 - val_accuracy: 0.4854\n",
            "Epoch 110/300\n",
            "27/27 [==============================] - 0s 7ms/step - loss: 0.5960 - accuracy: 0.6675 - val_loss: 0.7263 - val_accuracy: 0.5122\n",
            "Epoch 111/300\n",
            "27/27 [==============================] - 0s 6ms/step - loss: 0.5920 - accuracy: 0.6663 - val_loss: 0.7233 - val_accuracy: 0.4927\n",
            "Epoch 112/300\n",
            "27/27 [==============================] - 0s 6ms/step - loss: 0.5916 - accuracy: 0.6663 - val_loss: 0.7207 - val_accuracy: 0.4780\n",
            "Epoch 113/300\n",
            "27/27 [==============================] - 0s 7ms/step - loss: 0.5878 - accuracy: 0.6627 - val_loss: 0.7243 - val_accuracy: 0.4585\n",
            "Epoch 114/300\n",
            "27/27 [==============================] - 0s 6ms/step - loss: 0.5913 - accuracy: 0.6532 - val_loss: 0.7244 - val_accuracy: 0.4732\n",
            "Epoch 115/300\n",
            "27/27 [==============================] - 0s 7ms/step - loss: 0.5850 - accuracy: 0.6663 - val_loss: 0.7239 - val_accuracy: 0.4683\n",
            "Epoch 116/300\n",
            "27/27 [==============================] - 0s 6ms/step - loss: 0.5813 - accuracy: 0.6687 - val_loss: 0.7334 - val_accuracy: 0.4829\n",
            "Epoch 117/300\n",
            "27/27 [==============================] - 0s 6ms/step - loss: 0.5782 - accuracy: 0.6770 - val_loss: 0.7307 - val_accuracy: 0.4707\n",
            "Epoch 118/300\n",
            "27/27 [==============================] - 0s 6ms/step - loss: 0.5766 - accuracy: 0.6758 - val_loss: 0.7264 - val_accuracy: 0.4732\n",
            "Epoch 119/300\n",
            "27/27 [==============================] - 0s 6ms/step - loss: 0.5747 - accuracy: 0.6841 - val_loss: 0.7395 - val_accuracy: 0.4634\n",
            "Epoch 120/300\n",
            "27/27 [==============================] - 0s 6ms/step - loss: 0.5742 - accuracy: 0.6770 - val_loss: 0.7377 - val_accuracy: 0.4683\n",
            "Epoch 121/300\n",
            "27/27 [==============================] - 0s 6ms/step - loss: 0.5681 - accuracy: 0.6901 - val_loss: 0.7264 - val_accuracy: 0.4829\n",
            "Epoch 122/300\n",
            "27/27 [==============================] - 0s 6ms/step - loss: 0.5668 - accuracy: 0.6901 - val_loss: 0.7352 - val_accuracy: 0.4683\n",
            "Epoch 123/300\n",
            "27/27 [==============================] - 0s 6ms/step - loss: 0.5787 - accuracy: 0.6794 - val_loss: 0.7355 - val_accuracy: 0.4683\n",
            "Epoch 124/300\n",
            "27/27 [==============================] - 0s 6ms/step - loss: 0.5705 - accuracy: 0.6841 - val_loss: 0.7368 - val_accuracy: 0.4805\n",
            "Epoch 125/300\n",
            "27/27 [==============================] - 0s 8ms/step - loss: 0.5863 - accuracy: 0.6806 - val_loss: 0.7388 - val_accuracy: 0.4732\n",
            "Epoch 126/300\n",
            "27/27 [==============================] - 0s 7ms/step - loss: 0.5710 - accuracy: 0.6830 - val_loss: 0.7363 - val_accuracy: 0.4854\n",
            "Epoch 127/300\n",
            "27/27 [==============================] - 0s 6ms/step - loss: 0.5581 - accuracy: 0.7008 - val_loss: 0.7299 - val_accuracy: 0.4976\n",
            "Epoch 128/300\n",
            "27/27 [==============================] - 0s 6ms/step - loss: 0.5516 - accuracy: 0.6818 - val_loss: 0.7376 - val_accuracy: 0.4951\n",
            "Epoch 129/300\n",
            "27/27 [==============================] - 0s 6ms/step - loss: 0.5561 - accuracy: 0.6985 - val_loss: 0.7406 - val_accuracy: 0.5000\n",
            "Epoch 130/300\n",
            "27/27 [==============================] - 0s 6ms/step - loss: 0.5470 - accuracy: 0.7080 - val_loss: 0.7436 - val_accuracy: 0.4878\n",
            "Epoch 131/300\n",
            "27/27 [==============================] - 0s 6ms/step - loss: 0.5447 - accuracy: 0.7128 - val_loss: 0.7482 - val_accuracy: 0.4707\n",
            "Epoch 132/300\n",
            "27/27 [==============================] - 0s 6ms/step - loss: 0.5523 - accuracy: 0.7104 - val_loss: 0.7384 - val_accuracy: 0.4829\n",
            "Epoch 133/300\n",
            "27/27 [==============================] - 0s 7ms/step - loss: 0.5439 - accuracy: 0.7271 - val_loss: 0.7480 - val_accuracy: 0.4805\n",
            "Epoch 134/300\n",
            "27/27 [==============================] - 0s 7ms/step - loss: 0.5444 - accuracy: 0.7020 - val_loss: 0.7501 - val_accuracy: 0.4756\n",
            "Epoch 135/300\n",
            "27/27 [==============================] - 0s 8ms/step - loss: 0.5369 - accuracy: 0.7068 - val_loss: 0.7446 - val_accuracy: 0.4951\n",
            "Epoch 136/300\n",
            "27/27 [==============================] - 0s 8ms/step - loss: 0.5309 - accuracy: 0.7187 - val_loss: 0.7481 - val_accuracy: 0.4951\n",
            "Epoch 137/300\n",
            "27/27 [==============================] - 0s 6ms/step - loss: 0.5329 - accuracy: 0.7223 - val_loss: 0.7518 - val_accuracy: 0.4707\n",
            "Epoch 138/300\n",
            "27/27 [==============================] - 0s 8ms/step - loss: 0.5433 - accuracy: 0.7235 - val_loss: 0.7511 - val_accuracy: 0.4976\n",
            "Epoch 139/300\n",
            "27/27 [==============================] - 0s 8ms/step - loss: 0.5269 - accuracy: 0.7271 - val_loss: 0.7527 - val_accuracy: 0.4805\n",
            "Epoch 140/300\n",
            "27/27 [==============================] - 0s 8ms/step - loss: 0.5227 - accuracy: 0.7390 - val_loss: 0.7492 - val_accuracy: 0.4951\n",
            "Epoch 141/300\n",
            "27/27 [==============================] - 0s 7ms/step - loss: 0.5230 - accuracy: 0.7306 - val_loss: 0.7503 - val_accuracy: 0.4805\n",
            "Epoch 142/300\n",
            "27/27 [==============================] - 0s 6ms/step - loss: 0.5161 - accuracy: 0.7271 - val_loss: 0.7548 - val_accuracy: 0.4976\n",
            "Epoch 143/300\n",
            "27/27 [==============================] - 0s 6ms/step - loss: 0.5152 - accuracy: 0.7294 - val_loss: 0.7492 - val_accuracy: 0.5122\n",
            "Epoch 144/300\n",
            "27/27 [==============================] - 0s 6ms/step - loss: 0.5096 - accuracy: 0.7342 - val_loss: 0.7586 - val_accuracy: 0.4927\n",
            "Epoch 145/300\n",
            "27/27 [==============================] - 0s 6ms/step - loss: 0.5091 - accuracy: 0.7366 - val_loss: 0.7517 - val_accuracy: 0.5024\n",
            "Epoch 146/300\n",
            "27/27 [==============================] - 0s 6ms/step - loss: 0.5041 - accuracy: 0.7330 - val_loss: 0.7701 - val_accuracy: 0.4829\n",
            "Epoch 147/300\n",
            "27/27 [==============================] - 0s 7ms/step - loss: 0.5009 - accuracy: 0.7449 - val_loss: 0.7583 - val_accuracy: 0.5146\n",
            "Epoch 148/300\n",
            "27/27 [==============================] - 0s 7ms/step - loss: 0.5003 - accuracy: 0.7497 - val_loss: 0.7578 - val_accuracy: 0.5122\n",
            "Epoch 149/300\n",
            "27/27 [==============================] - 0s 7ms/step - loss: 0.4974 - accuracy: 0.7485 - val_loss: 0.7733 - val_accuracy: 0.4756\n",
            "Epoch 150/300\n",
            "27/27 [==============================] - 0s 6ms/step - loss: 0.4972 - accuracy: 0.7378 - val_loss: 0.7651 - val_accuracy: 0.4756\n",
            "Epoch 151/300\n",
            "27/27 [==============================] - 0s 6ms/step - loss: 0.4949 - accuracy: 0.7461 - val_loss: 0.7643 - val_accuracy: 0.4951\n",
            "Epoch 152/300\n",
            "27/27 [==============================] - 0s 7ms/step - loss: 0.4910 - accuracy: 0.7569 - val_loss: 0.7643 - val_accuracy: 0.5024\n",
            "Epoch 153/300\n",
            "27/27 [==============================] - 0s 6ms/step - loss: 0.4922 - accuracy: 0.7497 - val_loss: 0.7618 - val_accuracy: 0.5024\n",
            "Epoch 154/300\n",
            "27/27 [==============================] - 0s 6ms/step - loss: 0.4858 - accuracy: 0.7521 - val_loss: 0.7657 - val_accuracy: 0.4927\n",
            "Epoch 155/300\n",
            "27/27 [==============================] - 0s 6ms/step - loss: 0.4815 - accuracy: 0.7485 - val_loss: 0.7675 - val_accuracy: 0.5049\n",
            "Epoch 156/300\n",
            "27/27 [==============================] - 0s 6ms/step - loss: 0.4779 - accuracy: 0.7533 - val_loss: 0.7729 - val_accuracy: 0.5000\n",
            "Epoch 157/300\n",
            "27/27 [==============================] - 0s 6ms/step - loss: 0.4812 - accuracy: 0.7485 - val_loss: 0.7715 - val_accuracy: 0.5000\n",
            "Epoch 158/300\n",
            "27/27 [==============================] - 0s 7ms/step - loss: 0.4754 - accuracy: 0.7521 - val_loss: 0.7744 - val_accuracy: 0.5073\n",
            "Epoch 159/300\n",
            "27/27 [==============================] - 0s 7ms/step - loss: 0.4713 - accuracy: 0.7580 - val_loss: 0.7768 - val_accuracy: 0.4854\n",
            "Epoch 160/300\n",
            "27/27 [==============================] - 0s 7ms/step - loss: 0.4701 - accuracy: 0.7521 - val_loss: 0.7715 - val_accuracy: 0.5024\n",
            "Epoch 161/300\n",
            "27/27 [==============================] - 0s 8ms/step - loss: 0.4673 - accuracy: 0.7676 - val_loss: 0.7780 - val_accuracy: 0.5122\n",
            "Epoch 162/300\n",
            "27/27 [==============================] - 0s 8ms/step - loss: 0.4626 - accuracy: 0.7712 - val_loss: 0.7801 - val_accuracy: 0.4976\n",
            "Epoch 163/300\n",
            "27/27 [==============================] - 0s 7ms/step - loss: 0.4575 - accuracy: 0.7712 - val_loss: 0.7831 - val_accuracy: 0.4902\n",
            "Epoch 164/300\n",
            "27/27 [==============================] - 0s 6ms/step - loss: 0.4623 - accuracy: 0.7735 - val_loss: 0.7888 - val_accuracy: 0.4878\n",
            "Epoch 165/300\n",
            "27/27 [==============================] - 0s 6ms/step - loss: 0.4552 - accuracy: 0.7700 - val_loss: 0.7857 - val_accuracy: 0.5024\n",
            "Epoch 166/300\n",
            "27/27 [==============================] - 0s 6ms/step - loss: 0.4528 - accuracy: 0.7759 - val_loss: 0.7819 - val_accuracy: 0.4951\n",
            "Epoch 167/300\n",
            "27/27 [==============================] - 0s 7ms/step - loss: 0.4432 - accuracy: 0.7867 - val_loss: 0.7896 - val_accuracy: 0.5024\n",
            "Epoch 168/300\n",
            "27/27 [==============================] - 0s 7ms/step - loss: 0.4459 - accuracy: 0.7795 - val_loss: 0.7899 - val_accuracy: 0.4829\n",
            "Epoch 169/300\n",
            "27/27 [==============================] - 0s 6ms/step - loss: 0.4499 - accuracy: 0.7771 - val_loss: 0.7882 - val_accuracy: 0.5000\n",
            "Epoch 170/300\n",
            "27/27 [==============================] - 0s 6ms/step - loss: 0.4454 - accuracy: 0.7819 - val_loss: 0.7935 - val_accuracy: 0.4951\n",
            "Epoch 171/300\n",
            "27/27 [==============================] - 0s 6ms/step - loss: 0.4380 - accuracy: 0.7890 - val_loss: 0.7894 - val_accuracy: 0.5122\n",
            "Epoch 172/300\n",
            "27/27 [==============================] - 0s 6ms/step - loss: 0.4298 - accuracy: 0.7902 - val_loss: 0.7913 - val_accuracy: 0.5000\n",
            "Epoch 173/300\n",
            "27/27 [==============================] - 0s 6ms/step - loss: 0.4289 - accuracy: 0.7938 - val_loss: 0.7988 - val_accuracy: 0.4829\n",
            "Epoch 174/300\n",
            "27/27 [==============================] - 0s 6ms/step - loss: 0.4228 - accuracy: 0.7998 - val_loss: 0.8013 - val_accuracy: 0.4878\n",
            "Epoch 175/300\n",
            "27/27 [==============================] - 0s 6ms/step - loss: 0.4236 - accuracy: 0.7998 - val_loss: 0.8018 - val_accuracy: 0.4951\n",
            "Epoch 176/300\n",
            "27/27 [==============================] - 0s 6ms/step - loss: 0.4286 - accuracy: 0.7831 - val_loss: 0.7977 - val_accuracy: 0.4976\n",
            "Epoch 177/300\n",
            "27/27 [==============================] - 0s 7ms/step - loss: 0.4193 - accuracy: 0.8010 - val_loss: 0.8002 - val_accuracy: 0.5000\n",
            "Epoch 178/300\n",
            "27/27 [==============================] - 0s 6ms/step - loss: 0.4218 - accuracy: 0.7902 - val_loss: 0.8118 - val_accuracy: 0.5220\n",
            "Epoch 179/300\n",
            "27/27 [==============================] - 0s 8ms/step - loss: 0.4113 - accuracy: 0.8021 - val_loss: 0.7983 - val_accuracy: 0.4902\n",
            "Epoch 180/300\n",
            "27/27 [==============================] - 0s 6ms/step - loss: 0.4122 - accuracy: 0.8021 - val_loss: 0.8019 - val_accuracy: 0.5024\n",
            "Epoch 181/300\n",
            "27/27 [==============================] - 0s 6ms/step - loss: 0.4048 - accuracy: 0.8093 - val_loss: 0.8053 - val_accuracy: 0.4756\n",
            "Epoch 182/300\n",
            "27/27 [==============================] - 0s 6ms/step - loss: 0.4003 - accuracy: 0.8105 - val_loss: 0.8135 - val_accuracy: 0.4976\n",
            "Epoch 183/300\n",
            "27/27 [==============================] - 0s 6ms/step - loss: 0.4018 - accuracy: 0.8129 - val_loss: 0.8088 - val_accuracy: 0.5049\n",
            "Epoch 184/300\n",
            "27/27 [==============================] - 0s 7ms/step - loss: 0.3949 - accuracy: 0.8141 - val_loss: 0.8086 - val_accuracy: 0.4976\n",
            "Epoch 185/300\n",
            "27/27 [==============================] - 0s 7ms/step - loss: 0.4016 - accuracy: 0.7974 - val_loss: 0.8181 - val_accuracy: 0.4951\n",
            "Epoch 186/300\n",
            "27/27 [==============================] - 0s 6ms/step - loss: 0.4075 - accuracy: 0.8057 - val_loss: 0.8197 - val_accuracy: 0.4878\n",
            "Epoch 187/300\n",
            "27/27 [==============================] - 0s 6ms/step - loss: 0.4002 - accuracy: 0.7986 - val_loss: 0.8165 - val_accuracy: 0.4878\n",
            "Epoch 188/300\n",
            "27/27 [==============================] - 0s 6ms/step - loss: 0.3824 - accuracy: 0.8248 - val_loss: 0.8132 - val_accuracy: 0.5049\n",
            "Epoch 189/300\n",
            "27/27 [==============================] - 0s 7ms/step - loss: 0.3769 - accuracy: 0.8260 - val_loss: 0.8207 - val_accuracy: 0.4854\n",
            "Epoch 190/300\n",
            "27/27 [==============================] - 0s 6ms/step - loss: 0.3858 - accuracy: 0.8164 - val_loss: 0.8194 - val_accuracy: 0.5000\n",
            "Epoch 191/300\n",
            "27/27 [==============================] - 0s 6ms/step - loss: 0.3846 - accuracy: 0.8153 - val_loss: 0.8230 - val_accuracy: 0.4976\n",
            "Epoch 192/300\n",
            "27/27 [==============================] - 0s 6ms/step - loss: 0.3749 - accuracy: 0.8188 - val_loss: 0.8232 - val_accuracy: 0.5073\n",
            "Epoch 193/300\n",
            "27/27 [==============================] - 0s 7ms/step - loss: 0.3792 - accuracy: 0.8236 - val_loss: 0.8379 - val_accuracy: 0.4902\n",
            "Epoch 194/300\n",
            "27/27 [==============================] - 0s 6ms/step - loss: 0.3787 - accuracy: 0.8153 - val_loss: 0.8243 - val_accuracy: 0.5098\n",
            "Epoch 195/300\n",
            "27/27 [==============================] - 0s 7ms/step - loss: 0.3710 - accuracy: 0.8212 - val_loss: 0.8299 - val_accuracy: 0.4902\n",
            "Epoch 196/300\n",
            "27/27 [==============================] - 0s 6ms/step - loss: 0.3643 - accuracy: 0.8331 - val_loss: 0.8289 - val_accuracy: 0.5098\n",
            "Epoch 197/300\n",
            "27/27 [==============================] - 0s 6ms/step - loss: 0.3688 - accuracy: 0.8260 - val_loss: 0.8378 - val_accuracy: 0.4927\n",
            "Epoch 198/300\n",
            "27/27 [==============================] - 0s 6ms/step - loss: 0.3595 - accuracy: 0.8319 - val_loss: 0.8425 - val_accuracy: 0.5024\n",
            "Epoch 199/300\n",
            "27/27 [==============================] - 0s 7ms/step - loss: 0.3568 - accuracy: 0.8296 - val_loss: 0.8345 - val_accuracy: 0.5000\n",
            "Epoch 200/300\n",
            "27/27 [==============================] - 0s 7ms/step - loss: 0.3516 - accuracy: 0.8331 - val_loss: 0.8458 - val_accuracy: 0.5024\n",
            "Epoch 201/300\n",
            "27/27 [==============================] - 0s 7ms/step - loss: 0.3496 - accuracy: 0.8343 - val_loss: 0.8516 - val_accuracy: 0.4902\n",
            "Epoch 202/300\n",
            "27/27 [==============================] - 0s 6ms/step - loss: 0.3435 - accuracy: 0.8319 - val_loss: 0.8476 - val_accuracy: 0.4976\n",
            "Epoch 203/300\n",
            "27/27 [==============================] - 0s 6ms/step - loss: 0.3437 - accuracy: 0.8343 - val_loss: 0.8403 - val_accuracy: 0.4951\n",
            "Epoch 204/300\n",
            "27/27 [==============================] - 0s 7ms/step - loss: 0.3393 - accuracy: 0.8391 - val_loss: 0.8423 - val_accuracy: 0.4878\n",
            "Epoch 205/300\n",
            "27/27 [==============================] - 0s 7ms/step - loss: 0.3418 - accuracy: 0.8427 - val_loss: 0.8379 - val_accuracy: 0.5000\n",
            "Epoch 206/300\n",
            "27/27 [==============================] - 0s 6ms/step - loss: 0.3434 - accuracy: 0.8427 - val_loss: 0.8511 - val_accuracy: 0.4902\n",
            "Epoch 207/300\n",
            "27/27 [==============================] - 0s 6ms/step - loss: 0.3376 - accuracy: 0.8343 - val_loss: 0.8482 - val_accuracy: 0.4902\n",
            "Epoch 208/300\n",
            "27/27 [==============================] - 0s 6ms/step - loss: 0.3237 - accuracy: 0.8546 - val_loss: 0.8589 - val_accuracy: 0.4902\n",
            "Epoch 209/300\n",
            "27/27 [==============================] - 0s 6ms/step - loss: 0.3297 - accuracy: 0.8355 - val_loss: 0.8588 - val_accuracy: 0.5000\n",
            "Epoch 210/300\n",
            "27/27 [==============================] - 0s 7ms/step - loss: 0.3269 - accuracy: 0.8558 - val_loss: 0.8611 - val_accuracy: 0.4927\n",
            "Epoch 211/300\n",
            "27/27 [==============================] - 0s 7ms/step - loss: 0.3259 - accuracy: 0.8546 - val_loss: 0.8687 - val_accuracy: 0.4951\n",
            "Epoch 212/300\n",
            "27/27 [==============================] - 0s 6ms/step - loss: 0.3295 - accuracy: 0.8522 - val_loss: 0.8750 - val_accuracy: 0.4756\n",
            "Epoch 213/300\n",
            "27/27 [==============================] - 0s 6ms/step - loss: 0.3329 - accuracy: 0.8355 - val_loss: 0.8747 - val_accuracy: 0.4902\n",
            "Epoch 214/300\n",
            "27/27 [==============================] - 0s 6ms/step - loss: 0.3118 - accuracy: 0.8522 - val_loss: 0.8770 - val_accuracy: 0.4878\n",
            "Epoch 215/300\n",
            "27/27 [==============================] - 0s 6ms/step - loss: 0.3112 - accuracy: 0.8594 - val_loss: 0.8817 - val_accuracy: 0.5000\n",
            "Epoch 216/300\n",
            "27/27 [==============================] - 0s 6ms/step - loss: 0.3084 - accuracy: 0.8689 - val_loss: 0.8900 - val_accuracy: 0.4951\n",
            "Epoch 217/300\n",
            "27/27 [==============================] - 0s 6ms/step - loss: 0.3029 - accuracy: 0.8605 - val_loss: 0.8903 - val_accuracy: 0.4878\n",
            "Epoch 218/300\n",
            "27/27 [==============================] - 0s 6ms/step - loss: 0.3021 - accuracy: 0.8534 - val_loss: 0.8873 - val_accuracy: 0.5098\n",
            "Epoch 219/300\n",
            "27/27 [==============================] - 0s 7ms/step - loss: 0.3054 - accuracy: 0.8629 - val_loss: 0.8908 - val_accuracy: 0.5049\n",
            "Epoch 220/300\n",
            "27/27 [==============================] - 0s 7ms/step - loss: 0.3023 - accuracy: 0.8594 - val_loss: 0.8764 - val_accuracy: 0.4976\n",
            "Epoch 221/300\n",
            "27/27 [==============================] - 0s 6ms/step - loss: 0.2994 - accuracy: 0.8617 - val_loss: 0.8865 - val_accuracy: 0.5098\n",
            "Epoch 222/300\n",
            "27/27 [==============================] - 0s 7ms/step - loss: 0.2887 - accuracy: 0.8772 - val_loss: 0.8954 - val_accuracy: 0.5122\n",
            "Epoch 223/300\n",
            "27/27 [==============================] - 0s 6ms/step - loss: 0.2940 - accuracy: 0.8629 - val_loss: 0.8914 - val_accuracy: 0.5073\n",
            "Epoch 224/300\n",
            "27/27 [==============================] - 0s 6ms/step - loss: 0.2924 - accuracy: 0.8558 - val_loss: 0.9062 - val_accuracy: 0.4976\n",
            "Epoch 225/300\n",
            "27/27 [==============================] - 0s 6ms/step - loss: 0.2828 - accuracy: 0.8760 - val_loss: 0.9011 - val_accuracy: 0.5098\n",
            "Epoch 226/300\n",
            "27/27 [==============================] - 0s 7ms/step - loss: 0.2823 - accuracy: 0.8701 - val_loss: 0.9052 - val_accuracy: 0.5122\n",
            "Epoch 227/300\n",
            "27/27 [==============================] - 0s 7ms/step - loss: 0.2827 - accuracy: 0.8677 - val_loss: 0.9176 - val_accuracy: 0.4976\n",
            "Epoch 228/300\n",
            "27/27 [==============================] - 0s 7ms/step - loss: 0.3210 - accuracy: 0.8546 - val_loss: 0.9104 - val_accuracy: 0.5049\n",
            "Epoch 229/300\n",
            "27/27 [==============================] - 0s 6ms/step - loss: 0.2944 - accuracy: 0.8594 - val_loss: 0.9040 - val_accuracy: 0.5098\n",
            "Epoch 230/300\n",
            "27/27 [==============================] - 0s 7ms/step - loss: 0.2957 - accuracy: 0.8677 - val_loss: 0.9175 - val_accuracy: 0.5000\n",
            "Epoch 231/300\n",
            "27/27 [==============================] - 0s 7ms/step - loss: 0.2848 - accuracy: 0.8725 - val_loss: 0.9221 - val_accuracy: 0.5000\n",
            "Epoch 232/300\n",
            "27/27 [==============================] - 0s 8ms/step - loss: 0.2907 - accuracy: 0.8653 - val_loss: 0.9128 - val_accuracy: 0.5098\n",
            "Epoch 233/300\n",
            "27/27 [==============================] - 0s 7ms/step - loss: 0.3051 - accuracy: 0.8594 - val_loss: 0.9255 - val_accuracy: 0.4902\n",
            "Epoch 234/300\n",
            "27/27 [==============================] - 0s 7ms/step - loss: 0.2879 - accuracy: 0.8629 - val_loss: 0.9260 - val_accuracy: 0.5024\n",
            "Epoch 235/300\n",
            "27/27 [==============================] - 0s 7ms/step - loss: 0.2701 - accuracy: 0.8737 - val_loss: 0.9337 - val_accuracy: 0.5073\n",
            "Epoch 236/300\n",
            "27/27 [==============================] - 0s 7ms/step - loss: 0.2665 - accuracy: 0.8808 - val_loss: 0.9218 - val_accuracy: 0.5220\n",
            "Epoch 237/300\n",
            "27/27 [==============================] - 0s 7ms/step - loss: 0.2790 - accuracy: 0.8629 - val_loss: 0.9359 - val_accuracy: 0.4951\n",
            "Epoch 238/300\n",
            "27/27 [==============================] - 0s 8ms/step - loss: 0.2583 - accuracy: 0.8832 - val_loss: 0.9401 - val_accuracy: 0.5122\n",
            "Epoch 239/300\n",
            "27/27 [==============================] - 0s 7ms/step - loss: 0.2589 - accuracy: 0.8820 - val_loss: 0.9450 - val_accuracy: 0.5049\n",
            "Epoch 240/300\n",
            "27/27 [==============================] - 0s 8ms/step - loss: 0.2526 - accuracy: 0.8856 - val_loss: 0.9466 - val_accuracy: 0.5049\n",
            "Epoch 241/300\n",
            "27/27 [==============================] - 0s 8ms/step - loss: 0.2469 - accuracy: 0.8915 - val_loss: 0.9442 - val_accuracy: 0.5146\n",
            "Epoch 242/300\n",
            "27/27 [==============================] - 0s 8ms/step - loss: 0.2537 - accuracy: 0.8808 - val_loss: 0.9495 - val_accuracy: 0.5024\n",
            "Epoch 243/300\n",
            "27/27 [==============================] - 0s 7ms/step - loss: 0.2492 - accuracy: 0.8868 - val_loss: 0.9561 - val_accuracy: 0.5024\n",
            "Epoch 244/300\n",
            "27/27 [==============================] - 0s 7ms/step - loss: 0.2664 - accuracy: 0.8772 - val_loss: 0.9571 - val_accuracy: 0.5024\n",
            "Epoch 245/300\n",
            "27/27 [==============================] - 0s 7ms/step - loss: 0.2536 - accuracy: 0.8856 - val_loss: 0.9585 - val_accuracy: 0.5073\n",
            "Epoch 246/300\n",
            "27/27 [==============================] - 0s 7ms/step - loss: 0.2527 - accuracy: 0.8868 - val_loss: 0.9617 - val_accuracy: 0.5098\n",
            "Epoch 247/300\n",
            "27/27 [==============================] - 0s 7ms/step - loss: 0.2454 - accuracy: 0.8868 - val_loss: 0.9662 - val_accuracy: 0.5195\n",
            "Epoch 248/300\n",
            "27/27 [==============================] - 0s 7ms/step - loss: 0.2414 - accuracy: 0.8939 - val_loss: 0.9658 - val_accuracy: 0.5195\n",
            "Epoch 249/300\n",
            "27/27 [==============================] - 0s 7ms/step - loss: 0.2418 - accuracy: 0.8880 - val_loss: 0.9747 - val_accuracy: 0.5073\n",
            "Epoch 250/300\n",
            "27/27 [==============================] - 0s 7ms/step - loss: 0.2380 - accuracy: 0.8903 - val_loss: 0.9777 - val_accuracy: 0.5049\n",
            "Epoch 251/300\n",
            "27/27 [==============================] - 0s 6ms/step - loss: 0.2494 - accuracy: 0.8844 - val_loss: 0.9884 - val_accuracy: 0.4951\n",
            "Epoch 252/300\n",
            "27/27 [==============================] - 0s 7ms/step - loss: 0.2449 - accuracy: 0.8856 - val_loss: 0.9778 - val_accuracy: 0.5024\n",
            "Epoch 253/300\n",
            "27/27 [==============================] - 0s 7ms/step - loss: 0.2375 - accuracy: 0.8903 - val_loss: 0.9797 - val_accuracy: 0.5146\n",
            "Epoch 254/300\n",
            "27/27 [==============================] - 0s 6ms/step - loss: 0.2332 - accuracy: 0.9011 - val_loss: 0.9825 - val_accuracy: 0.5171\n",
            "Epoch 255/300\n",
            "27/27 [==============================] - 0s 7ms/step - loss: 0.2306 - accuracy: 0.8856 - val_loss: 0.9881 - val_accuracy: 0.5073\n",
            "Epoch 256/300\n",
            "27/27 [==============================] - 0s 6ms/step - loss: 0.2263 - accuracy: 0.8963 - val_loss: 0.9857 - val_accuracy: 0.5098\n",
            "Epoch 257/300\n",
            "27/27 [==============================] - 0s 7ms/step - loss: 0.2265 - accuracy: 0.8975 - val_loss: 0.9917 - val_accuracy: 0.5146\n",
            "Epoch 258/300\n",
            "27/27 [==============================] - 0s 7ms/step - loss: 0.2284 - accuracy: 0.8892 - val_loss: 1.0025 - val_accuracy: 0.5073\n",
            "Epoch 259/300\n",
            "27/27 [==============================] - 0s 7ms/step - loss: 0.2214 - accuracy: 0.9035 - val_loss: 1.0082 - val_accuracy: 0.4976\n",
            "Epoch 260/300\n",
            "27/27 [==============================] - 0s 8ms/step - loss: 0.2272 - accuracy: 0.8951 - val_loss: 0.9949 - val_accuracy: 0.5220\n",
            "Epoch 261/300\n",
            "27/27 [==============================] - 0s 6ms/step - loss: 0.2380 - accuracy: 0.8927 - val_loss: 1.0039 - val_accuracy: 0.4976\n",
            "Epoch 262/300\n",
            "27/27 [==============================] - 0s 8ms/step - loss: 0.2393 - accuracy: 0.8951 - val_loss: 1.0162 - val_accuracy: 0.5122\n",
            "Epoch 263/300\n",
            "27/27 [==============================] - 0s 7ms/step - loss: 0.2292 - accuracy: 0.8951 - val_loss: 1.0107 - val_accuracy: 0.5073\n",
            "Epoch 264/300\n",
            "27/27 [==============================] - 0s 6ms/step - loss: 0.2338 - accuracy: 0.8975 - val_loss: 1.0133 - val_accuracy: 0.5024\n",
            "Epoch 265/300\n",
            "27/27 [==============================] - 0s 7ms/step - loss: 0.2317 - accuracy: 0.8951 - val_loss: 1.0183 - val_accuracy: 0.5049\n",
            "Epoch 266/300\n",
            "27/27 [==============================] - 0s 6ms/step - loss: 0.2235 - accuracy: 0.9023 - val_loss: 1.0285 - val_accuracy: 0.5146\n",
            "Epoch 267/300\n",
            "27/27 [==============================] - 0s 7ms/step - loss: 0.2266 - accuracy: 0.8927 - val_loss: 1.0389 - val_accuracy: 0.5098\n",
            "Epoch 268/300\n",
            "27/27 [==============================] - 0s 7ms/step - loss: 0.2257 - accuracy: 0.8987 - val_loss: 1.0167 - val_accuracy: 0.5073\n",
            "Epoch 269/300\n",
            "27/27 [==============================] - 0s 6ms/step - loss: 0.2190 - accuracy: 0.9011 - val_loss: 1.0277 - val_accuracy: 0.5000\n",
            "Epoch 270/300\n",
            "27/27 [==============================] - 0s 6ms/step - loss: 0.2125 - accuracy: 0.9035 - val_loss: 1.0277 - val_accuracy: 0.4951\n",
            "Epoch 271/300\n",
            "27/27 [==============================] - 0s 7ms/step - loss: 0.2115 - accuracy: 0.9058 - val_loss: 1.0305 - val_accuracy: 0.5049\n",
            "Epoch 272/300\n",
            "27/27 [==============================] - 0s 7ms/step - loss: 0.2119 - accuracy: 0.9070 - val_loss: 1.0449 - val_accuracy: 0.5146\n",
            "Epoch 273/300\n",
            "27/27 [==============================] - 0s 7ms/step - loss: 0.2113 - accuracy: 0.9082 - val_loss: 1.0445 - val_accuracy: 0.5122\n",
            "Epoch 274/300\n",
            "27/27 [==============================] - 0s 6ms/step - loss: 0.2150 - accuracy: 0.8987 - val_loss: 1.0401 - val_accuracy: 0.5024\n",
            "Epoch 275/300\n",
            "27/27 [==============================] - 0s 7ms/step - loss: 0.2476 - accuracy: 0.8915 - val_loss: 1.0358 - val_accuracy: 0.5098\n",
            "Epoch 276/300\n",
            "27/27 [==============================] - 0s 7ms/step - loss: 0.2546 - accuracy: 0.8892 - val_loss: 1.0639 - val_accuracy: 0.4951\n",
            "Epoch 277/300\n",
            "27/27 [==============================] - 0s 7ms/step - loss: 0.2251 - accuracy: 0.9035 - val_loss: 1.0507 - val_accuracy: 0.5073\n",
            "Epoch 278/300\n",
            "27/27 [==============================] - 0s 7ms/step - loss: 0.2225 - accuracy: 0.8999 - val_loss: 1.0485 - val_accuracy: 0.5049\n",
            "Epoch 279/300\n",
            "27/27 [==============================] - 0s 7ms/step - loss: 0.2079 - accuracy: 0.9082 - val_loss: 1.0705 - val_accuracy: 0.5073\n",
            "Epoch 280/300\n",
            "27/27 [==============================] - 0s 7ms/step - loss: 0.2011 - accuracy: 0.9106 - val_loss: 1.0745 - val_accuracy: 0.5098\n",
            "Epoch 281/300\n",
            "27/27 [==============================] - 0s 6ms/step - loss: 0.2003 - accuracy: 0.9094 - val_loss: 1.0755 - val_accuracy: 0.5073\n",
            "Epoch 282/300\n",
            "27/27 [==============================] - 0s 7ms/step - loss: 0.2000 - accuracy: 0.9094 - val_loss: 1.0691 - val_accuracy: 0.5049\n",
            "Epoch 283/300\n",
            "27/27 [==============================] - 0s 7ms/step - loss: 0.2038 - accuracy: 0.9023 - val_loss: 1.0727 - val_accuracy: 0.5268\n",
            "Epoch 284/300\n",
            "27/27 [==============================] - 0s 7ms/step - loss: 0.1963 - accuracy: 0.9142 - val_loss: 1.0690 - val_accuracy: 0.5024\n",
            "Epoch 285/300\n",
            "27/27 [==============================] - 0s 6ms/step - loss: 0.1995 - accuracy: 0.9082 - val_loss: 1.0918 - val_accuracy: 0.5000\n",
            "Epoch 286/300\n",
            "27/27 [==============================] - 0s 7ms/step - loss: 0.1959 - accuracy: 0.9166 - val_loss: 1.1006 - val_accuracy: 0.5146\n",
            "Epoch 287/300\n",
            "27/27 [==============================] - 0s 7ms/step - loss: 0.1955 - accuracy: 0.9118 - val_loss: 1.0774 - val_accuracy: 0.5195\n",
            "Epoch 288/300\n",
            "27/27 [==============================] - 0s 8ms/step - loss: 0.1949 - accuracy: 0.9142 - val_loss: 1.0965 - val_accuracy: 0.5098\n",
            "Epoch 289/300\n",
            "27/27 [==============================] - 0s 7ms/step - loss: 0.1946 - accuracy: 0.9130 - val_loss: 1.1046 - val_accuracy: 0.5220\n",
            "Epoch 290/300\n",
            "27/27 [==============================] - 0s 7ms/step - loss: 0.2019 - accuracy: 0.9094 - val_loss: 1.1078 - val_accuracy: 0.5073\n",
            "Epoch 291/300\n",
            "27/27 [==============================] - 0s 7ms/step - loss: 0.2327 - accuracy: 0.9011 - val_loss: 1.0987 - val_accuracy: 0.5195\n",
            "Epoch 292/300\n",
            "27/27 [==============================] - 0s 7ms/step - loss: 0.2111 - accuracy: 0.9035 - val_loss: 1.1017 - val_accuracy: 0.5098\n",
            "Epoch 293/300\n",
            "27/27 [==============================] - 0s 7ms/step - loss: 0.2122 - accuracy: 0.9118 - val_loss: 1.1108 - val_accuracy: 0.5122\n",
            "Epoch 294/300\n",
            "27/27 [==============================] - 0s 7ms/step - loss: 0.2045 - accuracy: 0.9106 - val_loss: 1.1265 - val_accuracy: 0.4951\n",
            "Epoch 295/300\n",
            "27/27 [==============================] - 0s 7ms/step - loss: 0.1976 - accuracy: 0.9142 - val_loss: 1.1200 - val_accuracy: 0.5049\n",
            "Epoch 296/300\n",
            "27/27 [==============================] - 0s 7ms/step - loss: 0.1957 - accuracy: 0.9166 - val_loss: 1.1258 - val_accuracy: 0.5024\n",
            "Epoch 297/300\n",
            "27/27 [==============================] - 0s 7ms/step - loss: 0.1907 - accuracy: 0.9118 - val_loss: 1.1125 - val_accuracy: 0.5049\n",
            "Epoch 298/300\n",
            "27/27 [==============================] - 0s 7ms/step - loss: 0.1885 - accuracy: 0.9130 - val_loss: 1.1352 - val_accuracy: 0.5098\n",
            "Epoch 299/300\n",
            "27/27 [==============================] - 0s 7ms/step - loss: 0.1894 - accuracy: 0.9058 - val_loss: 1.1334 - val_accuracy: 0.5146\n",
            "Epoch 300/300\n",
            "27/27 [==============================] - 0s 7ms/step - loss: 0.1895 - accuracy: 0.9190 - val_loss: 1.1299 - val_accuracy: 0.5171\n"
          ],
          "name": "stdout"
        }
      ]
    },
    {
      "cell_type": "code",
      "metadata": {
        "id": "EUiZxPMLaTgS",
        "outputId": "85c1a08a-1da1-43c8-dfb0-349f7579437f",
        "colab": {
          "base_uri": "https://localhost:8080/",
          "height": 312
        }
      },
      "source": [
        "tf.keras.utils.plot_model(model, show_shapes=True)"
      ],
      "execution_count": 75,
      "outputs": [
        {
          "output_type": "execute_result",
          "data": {
            "image/png": "[encoded data removed]",
            "text/plain": [
              "<IPython.core.display.Image object>"
            ]
          },
          "metadata": {
            "tags": []
          },
          "execution_count": 75
        }
      ]
    },
    {
      "cell_type": "code",
      "metadata": {
        "id": "L7v5uBGle2DG",
        "outputId": "b4a14e07-0c11-41e5-ef07-cf02e8d6a9d9",
        "colab": {
          "base_uri": "https://localhost:8080/",
          "height": 282
        }
      },
      "source": [
        "plt.plot(r.history['loss'], label='loss')\n",
        "plt.plot(r.history['val_loss'], label='val_loss')\n",
        "plt.legend()"
      ],
      "execution_count": 76,
      "outputs": [
        {
          "output_type": "execute_result",
          "data": {
            "text/plain": [
              "<matplotlib.legend.Legend at 0x7f92dc724c18>"
            ]
          },
          "metadata": {
            "tags": []
          },
          "execution_count": 76
        },
        {
          "output_type": "display_data",
          "data": {
            "image/png": "[encoded data removed]",
            "text/plain": [
              "<Figure size 432x288 with 1 Axes>"
            ]
          },
          "metadata": {
            "tags": [],
            "needs_background": "light"
          }
        }
      ]
    },
    {
      "cell_type": "code",
      "metadata": {
        "id": "LVK3HxXygkeQ",
        "outputId": "2a95ecfe-f3f7-4fd3-ce71-164c9ea5e0bc",
        "colab": {
          "base_uri": "https://localhost:8080/",
          "height": 265
        }
      },
      "source": [
        "plt.plot(r.history['accuracy'], label='accuracy')\n",
        "plt.plot(r.history['val_accuracy'], label='val_accuracy')\n",
        "plt.legend()\n",
        "plt.show()"
      ],
      "execution_count": 77,
      "outputs": [
        {
          "output_type": "display_data",
          "data": {
            "image/png": "[encoded data removed]",
            "text/plain": [
              "<Figure size 432x288 with 1 Axes>"
            ]
          },
          "metadata": {
            "tags": [],
            "needs_background": "light"
          }
        }
      ]
    },
    {
      "cell_type": "code",
      "metadata": {
        "id": "-O8b_HYchJsJ"
      },
      "source": [
        ""
      ],
      "execution_count": 77,
      "outputs": []
    }
  ]
}